{
 "cells": [
  {
   "cell_type": "markdown",
   "metadata": {},
   "source": [
    "# Criptografía - Práctica 3: Funciones de un solo sentido\n",
    "Guillermo Chica Sabariego"
   ]
  },
  {
   "cell_type": "markdown",
   "metadata": {},
   "source": [
    "### Ejercicio 1: Función mochila"
   ]
  },
  {
   "cell_type": "markdown",
   "metadata": {},
   "source": [
    "En este ejercicio se nos pide implementar un cifrado de mochila de clave asimétrica donde la clave privada es una lista super creciente y dos enteros *n* y *u* primos entre sí y la clave pública es una versión modificada de la lista supercreciente obtenida multiplicando cada elemento de la lista supercreciente por *u* mod *n*."
   ]
  },
  {
   "cell_type": "markdown",
   "metadata": {},
   "source": [
    "Para cifrar, cada bit del mensaje se multiplica por un elemento de la lista supercreciente que es la llave pública y se suma cada uno de estos productos, obteniéndose un número. Para descifar, se calcula la sumatoria del producto de cada bit del mensaje con la lista super creciente y descomponemos este número como suma de los elementos de la lista super creciente."
   ]
  },
  {
   "cell_type": "markdown",
   "metadata": {},
   "source": [
    "Paso a paso, primero, implementamos las funciones de MCD e inverso de la prácica 1 que nos servirán en esta:"
   ]
  },
  {
   "cell_type": "code",
   "execution_count": 14,
   "metadata": {
    "collapsed": true
   },
   "outputs": [],
   "source": [
    "#******************************************************\n",
    "def mcd(a,b):\n",
    "    \"\"\"\n",
    "    Implementación del algoritmo de euclides para el cálculo del MCD y los\n",
    "    coeficientes de Bezout\n",
    "    \n",
    "    Entrada: \n",
    "        a, b: enteros \n",
    "    \n",
    "    Salida:\n",
    "        El mcd y los coeficientes u y b\n",
    "    \"\"\"\n",
    "\n",
    "\n",
    "    #Inicilizamos u y v para a y b\n",
    "    u_a=1\n",
    "    v_a=0\n",
    "    u_b=0\n",
    "    v_b=1\n",
    "\n",
    "    while(b!=0):\n",
    "        #Hallamos cociente\n",
    "        c = a / b\n",
    "        #Valores futuros de u y v\n",
    "        aux_u = u_a - c*u_b\n",
    "        aux_v = v_a - c*v_b\n",
    "        #Valor futuro d b\n",
    "        aux_b = a - c*b\n",
    "        #Hacemos los cambios\n",
    "        u_a=u_b\n",
    "        v_a=v_b\n",
    "        u_b=aux_u\n",
    "        v_b=aux_v\n",
    "        a=b\n",
    "        b=aux_b\n",
    "        \n",
    "    #a es el mcd, u el inverso si a es 1\n",
    "    return [a,u_a, v_a]\n",
    "#************************************************************\n",
    "    \n",
    "def inverso(a,n):\n",
    "    \"\"\"\n",
    "    Algortimo para calcular el inverso modular de un número\n",
    "    \n",
    "    Entrada: \n",
    "        a y n enteros\n",
    "    \n",
    "    Salida: \n",
    "        El inverso modulo n de a: a^-1 mod n\n",
    "    \"\"\"\n",
    "    d_u=mcd(a,n)\n",
    "    if (d_u[0]!=1):\n",
    "        print \"No existe el inverso modulo \"+str(n)+ \" para \"+str(a)\n",
    "    else:\n",
    "        #1=u*a+v*n -> u es el inverso\n",
    "        return d_u[1]%n\n",
    "        \n",
    "#***********************************************************"
   ]
  },
  {
   "cell_type": "markdown",
   "metadata": {},
   "source": [
    "La función de cifrado, que como se ha dicho es la sumatoria del producto de cada bit del mensaje por cada elemento de la llave pública:"
   ]
  },
  {
   "cell_type": "code",
   "execution_count": 2,
   "metadata": {
    "collapsed": true
   },
   "outputs": [],
   "source": [
    "def cifrado(m,kpub):\n",
    "    \"\"\"\n",
    "    Cifrado de knapstack\n",
    "    \n",
    "    Entrada:\n",
    "        m: mensaje a cifrar formado por lista binaria de 1 y 0\n",
    "        \n",
    "        kpub: secuencia obtenida a partir de una supercreciente[a1*...ak*] haciendo u*kpriv[i]modn\n",
    "        \n",
    "    Salida:\n",
    "        sum: mensaje cifrado\n",
    "    \"\"\"\n",
    "    sum = 0\n",
    "    for i in range(len(m)):\n",
    "        sum = sum + m[i]*kpub[i]\n",
    "    \n",
    "    return sum"
   ]
  },
  {
   "cell_type": "markdown",
   "metadata": {},
   "source": [
    "Para poder descifrar, hay que implementar el algoritmo avaricioso. Este algoritmo, dado un número, busca los elementos de una lista supercreciente que al sumarlos dan dicho número."
   ]
  },
  {
   "cell_type": "code",
   "execution_count": 3,
   "metadata": {
    "collapsed": true
   },
   "outputs": [],
   "source": [
    "def greedy(n,s):\n",
    "    \"\"\"\n",
    "    Algoritmo avaricioso\n",
    "    \n",
    "    Entrada:\n",
    "        n: número del cual quiere conocerse sus sumandos en la lista s\n",
    "        \n",
    "        s: secuencia supercreciente\n",
    "    \n",
    "    Salida:\n",
    "        sum: lista que contiene los elementos de s que al sumar dan n\n",
    "    \"\"\"\n",
    "    \n",
    "    suma = []\n",
    "    #encontramos el primer elemento de la mochila que sea anterior a n\n",
    "    for i in range(len(s)):\n",
    "        if (s[i] >= n):\n",
    "            suma.append(s[i-1])\n",
    "    if (len(suma)==0):\n",
    "        suma.append(s[len(s)-1])\n",
    "    \n",
    "    j=0\n",
    "    fin = False\n",
    "    aux= n- suma[0]\n",
    "    while not fin:\n",
    "        for i in range(len(s)):\n",
    "            #si s[i] es mayor que aux, nos quedamos con s[i-1]\n",
    "            #siempre y cuando s[i-1] no esté ya en suma y no sea 1\n",
    "            if (s[i] >= aux and s[i-1] not in suma and aux!=1 and s[i-1]<aux):\n",
    "                suma.append(s[i-1])\n",
    "                j = j+1\n",
    "                aux = aux - suma[j]\n",
    "                if (aux in s):\n",
    "                    suma.append(aux)\n",
    "                if (aux ==1): #si aux ya es 1, paro\n",
    "                    fin = True\n",
    "        \n",
    "        #Comprobamos si la suma de los elementos de la lsita sum da n\n",
    "        if (sum(suma)==n):\n",
    "            fin = True\n",
    "        \n",
    "    return suma"
   ]
  },
  {
   "cell_type": "markdown",
   "metadata": {},
   "source": [
    "Para descifrar, calculamos v = inverso de u mod n. Entonces calculamos b=vb* mod n y tenemos:"
   ]
  },
  {
   "cell_type": "markdown",
   "metadata": {},
   "source": [
    "b = vb* mod n ; b asterisco es el mensaje cifrado\n",
    "\n",
    "  = v · Σe<sub>i</sub>a<sub>i</sub>* ; a<sub>i</sub> asterisco es la lista supercreciente modificada y e<sub>i</sub> el mensaje a cifrar\n",
    "  \n",
    "  = v · Σe<sub>i</sub>(ua<sub>i</sub>) mod n ; a<sub>i</sub> lista supercreciente\n",
    "  \n",
    "  = (uv) · Σe<sub>i</sub>a<sub>i</sub>\n",
    "  \n",
    "  = Σ e<sub>i</sub>a<sub>i</sub> mod n"
   ]
  },
  {
   "cell_type": "markdown",
   "metadata": {},
   "source": [
    "Al final el descifrado se convierte en buscar los sumandos de b en la lista supercreciente."
   ]
  },
  {
   "cell_type": "code",
   "execution_count": 10,
   "metadata": {
    "collapsed": true
   },
   "outputs": [],
   "source": [
    "def descifrado(c, kpriv):\n",
    "    \"\"\"\n",
    "    Descifrado de knapstack\n",
    "    \n",
    "    Entrada:\n",
    "        c: mensaje cifrado\n",
    "        \n",
    "        kpriv: formada por una secuencia super creciente [a1...ak], n y u tal que gcd(n,u)=1\n",
    "        \n",
    "    Salida:\n",
    "        d: lista binaria del mensaje descifrado\n",
    "    \"\"\"    \n",
    "    a = kpriv[0] #la secuencia supercreciente\n",
    "    n = kpriv[1]\n",
    "    u = kpriv[2]\n",
    "    \n",
    "    v = inverso(u,n)\n",
    "    \n",
    "    b = (v*c) % n #b  = Sum m[i]*a[i]\n",
    "   \n",
    "    #descomponemos b como suma de elementos de la mochila\n",
    "    lista =  greedy(b,a)\n",
    "    \n",
    "    #Expresamos los elementos de la mochila como binario\n",
    "    d = []\n",
    "    for i in a:\n",
    "        if i in lista: #si el elemento de lista está en mochila, ponemos 1\n",
    "            d.append(1)\n",
    "        else:\n",
    "            d.append(0)\n",
    "    \n",
    "    return d"
   ]
  },
  {
   "cell_type": "markdown",
   "metadata": {},
   "source": [
    "Una prueba:"
   ]
  },
  {
   "cell_type": "code",
   "execution_count": 13,
   "metadata": {
    "collapsed": false
   },
   "outputs": [
    {
     "name": "stdout",
     "output_type": "stream",
     "text": [
      "1\n",
      "mensaje original [0, 1, 1, 0, 0, 1, 0, 1]\n",
      "mensaje descifrado [0, 1, 1, 0, 0, 1, 0, 1]\n"
     ]
    }
   ],
   "source": [
    "m = [0,1,1,0,0,1,0,1]\n",
    "a = [1,3,7,15,31,63,127,255]\n",
    "n = 557\n",
    "u = 323\n",
    "print mcd(n,u)[0]\n",
    "kpriv = [a,n,u]\n",
    "kpub=[] #kpub = a*u mod n\n",
    "for i in a:\n",
    "    kpub.append((i*u)%n)\n",
    "    \n",
    "c = cifrado(m, kpub)\n",
    "d = descifrado(c, kpriv)\n",
    "print \"mensaje original\", m\n",
    "print \"mensaje descifrado\", d"
   ]
  },
  {
   "cell_type": "markdown",
   "metadata": {},
   "source": [
    "### Ejercicio 2: Logaritmo discreto"
   ]
  },
  {
   "cell_type": "markdown",
   "metadata": {},
   "source": [
    "Hay que calcular el inverso de nuestra fecha de nacimiento dada la función Z<sub>p</sub> -> Z<sub>p</sub>, x -> alfa<sup>x</sup>, donde alfa es un elemento primitivo de Zp*."
   ]
  },
  {
   "cell_type": "markdown",
   "metadata": {},
   "source": [
    "Antes cargamos algunas funciones de la práctica 1 que nos hacen falta:"
   ]
  },
  {
   "cell_type": "code",
   "execution_count": 54,
   "metadata": {
    "collapsed": false
   },
   "outputs": [],
   "source": [
    "from random import randrange,randint\n",
    "\n",
    "#********************************************************\n",
    "def expmod(b,e,m):\n",
    "    \"\"\"\n",
    "    Calcula la potencia modular de un número\n",
    "    \n",
    "    Entrada:\n",
    "        b: base entera\n",
    "        \n",
    "        e: exponente entero\n",
    "       \n",
    "        m: modulo entero\n",
    "    \n",
    "    Salida:\n",
    "        prod: resultado de (b^e) mod n\n",
    "    \"\"\"\n",
    "    #b = base\n",
    "    #e = exponente\n",
    "    #m = modulo\n",
    "    s=e\n",
    "    prod=1 #En prod voy almacenando el resultado de las potencias\n",
    "    a=b\n",
    "    \n",
    "    while(s>0):\n",
    "        #Caso 1: primer bit es 1\n",
    "        if(s%2==1):\n",
    "            #Cambio prod\n",
    "            prod = (prod * a) % m\n",
    "            #Cambio s\n",
    "            s = (s-1)/2\n",
    "        #Caso 2: primer bit es 0\n",
    "        elif (s%2==0):\n",
    "            #No cambio prod\n",
    "            #Cambio s\n",
    "            s = s / 2\n",
    "        #Cambio a\n",
    "        a = (a*a) % m\n",
    "        if(a==1):\n",
    "            return prod\n",
    "    \n",
    "    #Devuelvo el resultado:\n",
    "    return prod\n",
    "#********************************************************\n",
    "def millerrabin(p):\n",
    "    \"\"\"\n",
    "    Implementación del algoritmo de mille rabin para comprobar si un número\n",
    "    es primo\n",
    "    \n",
    "    Entrada:\n",
    "        p: número candidato\n",
    "        \n",
    "    Salida:\n",
    "        True: Si es probablemente primo\n",
    "        \n",
    "        False: Si no es primo\n",
    "    \"\"\"\n",
    "    \n",
    "    #Expresamos p-1 como (2**u)*s\n",
    "    #Calculamos s y u\n",
    "    s = p-1\n",
    "    u=0\n",
    "    while (s%2==0): #vemos si es primo\n",
    "        s = s//2\n",
    "        u=u+1\n",
    "    \n",
    "    \n",
    "    #Escogemos un a aleatorio entre 2 y p-2 Unif[2,p-2] p-2>2\n",
    "    #randrange(inicio, fin, salto)\n",
    "    #inicio: se incluye en el rango\n",
    "    #fin: fin del rango, no se incluye en el rango\n",
    "    a = randrange(2,p-1) \n",
    "       \n",
    "    #Si a**s=1 o a**s=-1\n",
    "    if(expmod(a,s,p)==1 or expmod(a,s,p)==p-1): #p-1 es -1 en mod p\n",
    "        return True\n",
    "    else:\n",
    "        #Desde i=1 hasta u-1\n",
    "        for i in range(1,u, 1):\n",
    "            #Si a^((2^k)*u) igual a -1 con k<u -> probablemente primo\n",
    "            exp=(2**i)*s\n",
    "            if (expmod(a,exp,p)==p-1): \n",
    "                return True\n",
    "            #Si a^((2^k)*u) igual a 1 no precedido de -1 -> no primo\n",
    "            elif (expmod(a,exp,p)==1):\n",
    "                return False\n",
    "        #Si no aparece el 1-> No primo\n",
    "        return False\n",
    "        \n",
    "#*****************************************************************************\n",
    "def esprimo(p,n):\n",
    "    \"\"\"\n",
    "    Función que pasa el test de miller rabin varias veces, y dice si es primo\n",
    "    o no con un porcentaje\n",
    "    \n",
    "    Entrada: \n",
    "        p: número que pasa test\n",
    "        \n",
    "        n: número de veces que se hace el test\n",
    "    \n",
    "    Salida: \n",
    "        True si primo, False si no primo\n",
    "    \"\"\"\n",
    "    siprimo=0   \n",
    "    for i in range (1,n,1):\n",
    "        primo = millerrabin(p)\n",
    "        if (primo==True):\n",
    "            siprimo=siprimo+1\n",
    "        else:\n",
    "            #print \"No es primo\"\n",
    "            return False\n",
    "    #Calculamos porcentajes:\n",
    "        \n",
    "    porcentajeprimo = (float(siprimo)/n)*100\n",
    "    #Además, calculamos la probabilidad de que sea primo\n",
    "    prob = ((4**n-1)/float(4**n))*100\n",
    "    \n",
    "    \n",
    "    return True\n",
    "    \n",
    "#*****************************************************************************\n",
    "def jacobi(a,p):\n",
    "    \"\"\"\n",
    "    Extensión del simbolo de legendre para p no primo\n",
    "\n",
    "    Entrada:\n",
    "        a: entero\n",
    "        p: impar\n",
    "        \n",
    "    Salida:\n",
    "        1 si a es residuo cuadrático mod p\n",
    "        \n",
    "        0 si p divide a a\n",
    "        \n",
    "        -1 en caso contrario\n",
    "        \n",
    "    \"\"\"   \n",
    "    if(p!=1):\n",
    "       a = a%p\n",
    "    else: #si (a/1)\n",
    "        return 1\n",
    "    \n",
    "    #Comprobamos los casos base\n",
    "    if (a==0):\n",
    "        return 0\n",
    "    if (a==1):\n",
    "        return 1\n",
    "    if (a==2):\n",
    "        if ( p%8 == 1 or p%8 == 7):\n",
    "            return 1\n",
    "        else:\n",
    "            return -1\n",
    "    if (a == p-1):\n",
    "        if (p%4 == 1):\n",
    "            return 1\n",
    "        if (p%4 == 3):\n",
    "            return -1\n",
    "    \n",
    "    #saco u y s\n",
    "    s = a\n",
    "    u=0\n",
    "    while (s%2==0): #vemos si es par\n",
    "        s = s//2\n",
    "        u=u+1\n",
    "        \n",
    "    #Reciprocidad cuadrático\n",
    "    signo1=1\n",
    "    signo2=1\n",
    "    if (u%2==0):\n",
    "        signo1 = 1\n",
    "    else:\n",
    "        if (p%8 == 1 or p%8 == 7):\n",
    "            signo1 = 1\n",
    "        else:\n",
    "            signo1 = -1\n",
    "    \n",
    "    if (p%4==1 or s%4==1):\n",
    "        signo2 = 1\n",
    "    elif (p%4==3 and s%4==3):\n",
    "        signo2 = -1\n",
    "    #Damos la vuelta        \n",
    "    a = p\n",
    "    p = s\n",
    "    \n",
    "    return signo1*signo2*jacobi(a,p)\n",
    "#*****************************************************************************\n",
    "def petitpasgrandpas(a,b,p):\n",
    "    \"\"\"\n",
    "    Implementación del algoritmo paso enano-paso gigante\n",
    "    Calcula x tal que a^x = b mod p\n",
    "    \n",
    "    Entrada: \n",
    "        a, b: enteros\n",
    "        \n",
    "        p: primo\n",
    "    \n",
    "    Salida: \n",
    "        x tal que a^x= b mod p si hay solución \n",
    "        \n",
    "        False si no hay solución\n",
    "    \n",
    "    \"\"\"\n",
    "    #Calculamos s: primer primo que elevado a 2 da > que p-1\n",
    "    s=1\n",
    "    while(s**2<p-1):\n",
    "        s=s+1\n",
    "    \n",
    "    #Sacamos la lista grande y la pequeña\n",
    "    L = [expmod(a,s*i,p) for i in range(1,s+1)]\n",
    "    l = [(b*expmod(a,i,p))%p for i in range(s)]\n",
    "    \n",
    "    #Buscamos la insterseccion entre L y l\n",
    "    n = list(set(L) & set(l))\n",
    "    \n",
    "    #Si no hay intersección, no hay solución\n",
    "    if not n:\n",
    "        print \"No hay solución\"\n",
    "        return False\n",
    "    \n",
    "    #x = i*b - j\n",
    "    #i indice de n en L +1\n",
    "    #j indice de n en l\n",
    "    i = L.index(n[0]) + 1\n",
    "    j = l.index(n[0])\n",
    "    \n",
    "    x = i*s -j\n",
    "    \n",
    "    return x\n",
    "#*****************************************************************************"
   ]
  },
  {
   "cell_type": "markdown",
   "metadata": {},
   "source": [
    "Ya estamos en disposición de implementar lo que nos piden en el ejercicio. La función busca un elemento primitivo alfa de Zp, con p el primer primo mayor que mi DNI. Un elemento alfa será primitivo si el símbolo de jacobi de alfa sobre p es -1. Después, calcula la inversa de mi fecha de nacimiento usando el logaritmo discreto, que es la inversa de la función que proponen."
   ]
  },
  {
   "cell_type": "code",
   "execution_count": 30,
   "metadata": {
    "collapsed": true
   },
   "outputs": [],
   "source": [
    "def primitivo(fecha):\n",
    "    \"\"\"\n",
    "    Función que, dada la función Zp->Zp x->a^x,\n",
    "    calcula el inverso de mi fecha de nacimiento\n",
    "    \n",
    "    Entrada:\n",
    "        fecha: El valor de la fecha de nacimiento en formato AAAMMDD\n",
    "    \n",
    "    Salida: El inverso de la fecha de nacimiento\n",
    "    \"\"\"\n",
    "    #Encuentra un elemento primitivo alfa de Zp\n",
    "    #n es fecha de nacimiento\n",
    "    \n",
    "    #Buscamos un pseudoprimo mayor o igual que mi DNI\n",
    "    p = 77378395\n",
    "    \n",
    "    primo = False\n",
    "    while not primo:\n",
    "        if (esprimo(p,10) and esprimo((p-1)/2,10) ):\n",
    "            primo = True\n",
    "        else:\n",
    "            p = p+2\n",
    "    \n",
    "    #Búsqueda del elemento primitivo    \n",
    "    primitivo = False\n",
    "    alfa = 2\n",
    "    while not primitivo:\n",
    "        if (jacobi(alfa,p) == -1):\n",
    "            primitivo = True\n",
    "        else:\n",
    "            alfa = alfa +1\n",
    "    #La inversa de la función es el logaritmo discreto\n",
    "    inv = petitpasgrandpas(alfa,fecha,p)\n",
    "    return inv,alfa,p"
   ]
  },
  {
   "cell_type": "markdown",
   "metadata": {},
   "source": [
    "Hagamos una prueba: "
   ]
  },
  {
   "cell_type": "code",
   "execution_count": 33,
   "metadata": {
    "collapsed": false
   },
   "outputs": [
    {
     "name": "stdout",
     "output_type": "stream",
     "text": [
      "23836488 2 77379227\n"
     ]
    }
   ],
   "source": [
    "fecha = 19930530\n",
    "inv,alfa,p = primitivo(fecha)\n",
    "print inv,alfa,p"
   ]
  },
  {
   "cell_type": "markdown",
   "metadata": {},
   "source": [
    "El primer número es el inverso, el segundo el alfa primitivo y el tercero el p primo. Para comprobar que está bien, solo hay que aplicar la función al resultado, es decir, hacer alfa<sup>23836488</sup> mod p"
   ]
  },
  {
   "cell_type": "code",
   "execution_count": 34,
   "metadata": {
    "collapsed": false
   },
   "outputs": [
    {
     "name": "stdout",
     "output_type": "stream",
     "text": [
      "19930530\n"
     ]
    }
   ],
   "source": [
    "print expmod(alfa,inv,p)"
   ]
  },
  {
   "cell_type": "markdown",
   "metadata": {},
   "source": [
    "Como vemos se obtiene la fecha de nacimiento por lo que el inverso es correcto."
   ]
  },
  {
   "cell_type": "markdown",
   "metadata": {},
   "source": [
    "p y q son enteros primos y n = pq en lo que sigue."
   ]
  },
  {
   "cell_type": "markdown",
   "metadata": {},
   "source": [
    "### Ejercicio 3: Función de Rabin"
   ]
  },
  {
   "cell_type": "code",
   "execution_count": 40,
   "metadata": {
    "collapsed": true
   },
   "outputs": [],
   "source": [
    "def rabin():\n",
    "    \"\"\"\n",
    "    Función que calcula los factores primos de un entero y los devuelve\n",
    "    \"\"\"\n",
    "    \n",
    "    #mcd(x-y,n) es un divisor no trivial de n\n",
    "\n",
    "    p = mcd(48478872564493742276963,37659670402359614687722+12)[0]\n",
    "    q = mcd(48478872564493742276963,37659670402359614687722-12)[0]\n",
    "    \n",
    "    return p,q   "
   ]
  },
  {
   "cell_type": "code",
   "execution_count": 41,
   "metadata": {
    "collapsed": false
   },
   "outputs": [
    {
     "name": "stdout",
     "output_type": "stream",
     "text": [
      "303948303229 159497098847\n",
      "48478872564493742276963\n"
     ]
    }
   ],
   "source": [
    "p,q = rabin()\n",
    "print p,q\n",
    "print p*q #Comprobación de que son divisores de n "
   ]
  },
  {
   "cell_type": "markdown",
   "metadata": {},
   "source": [
    "### Ejercicio 4: Función resumen"
   ]
  },
  {
   "cell_type": "markdown",
   "metadata": {},
   "source": [
    "Usando la función h definica por Goldwasser, Micali y Rivest y la construcción de Merkle Damgard, implementar una función resumen. a0, a1 y n son públicos. Cogemos la misma n que en el ejercicio anterior."
   ]
  },
  {
   "cell_type": "code",
   "execution_count": 42,
   "metadata": {
    "collapsed": true
   },
   "outputs": [],
   "source": [
    "def h(x,b):\n",
    "    \"\"\"\n",
    "    Función de compresión \n",
    "    \n",
    "    \"\"\"\n",
    "    n = 48478872564493742276963\n",
    "    #a0 y a1 dos cuadrados arbitrario mod n\n",
    "    a0 = (6347823468234**2) % n\n",
    "    a1 = (5143151387122**2) % n\n",
    "    \n",
    "    return ((x**2)  * (a0**b) * (a1 **(1-b))) % n"
   ]
  },
  {
   "cell_type": "code",
   "execution_count": 43,
   "metadata": {
    "collapsed": true
   },
   "outputs": [],
   "source": [
    "def resumen(x,m):\n",
    "    \"\"\"\n",
    "    Función resumen que usa una estructura de merkle damgard usando h como\n",
    "    función de compresión\n",
    "    \n",
    "    Entrada:\n",
    "        x: vector inicial en forma de entero\n",
    "        m: mensaje al que aplicar el resumen en forma de lista de bits\n",
    "    \n",
    "    Salida:\n",
    "        salida: el resumen aplicado a m en forma de entero\n",
    "    \"\"\"\n",
    "    #x vector inicial, m mensaje al que aplicar el hash\n",
    "    \n",
    "    salida = 0\n",
    "    for i in range(0,len(m)):\n",
    "        #Construccion merkle damgard\n",
    "        #La salida de la h se combina en una nueva h con\n",
    "        #el nuevo bloque de mensaje que es m[i]\n",
    "        salida = h(x,m[i]) #m[i] es b \n",
    "        x = salida #lo que sustituye al vector inicial en los sucesivos pasos es la salida de h\n",
    "    \n",
    "    return salida"
   ]
  },
  {
   "cell_type": "code",
   "execution_count": 44,
   "metadata": {
    "collapsed": false
   },
   "outputs": [
    {
     "name": "stdout",
     "output_type": "stream",
     "text": [
      "7682878834527310956964\n"
     ]
    }
   ],
   "source": [
    "print resumen(7687,[1,0,1,1])"
   ]
  },
  {
   "cell_type": "markdown",
   "metadata": {},
   "source": [
    "### Ejercicio 5: Inverso RSA"
   ]
  },
  {
   "cell_type": "markdown",
   "metadata": {},
   "source": [
    "Dada la función RSA x<sup>e</sup> mod p, con p el primer primo mayor que mi DNI, nos piden calcular el inverso de la función para 1234567890."
   ]
  },
  {
   "cell_type": "code",
   "execution_count": 49,
   "metadata": {
    "collapsed": true
   },
   "outputs": [],
   "source": [
    "def inversorsa(p,q,y):\n",
    "    \"\"\"\n",
    "    Función que calcula el inverso de la función RSA f : Zn -> Zn, x -> x^e .\n",
    "    \n",
    "    Entrada:\n",
    "        p: numero de identidad\n",
    "        q: fecha de nacimiento\n",
    "        y: el valor al que calcular el inverso\n",
    "    Salida:\n",
    "        x: el inverso de la función RSA para el valor y\n",
    "    \"\"\"\n",
    "    #pprimo el menor primo entero mayor que mi numero de identidad\n",
    "    pprimo = False\n",
    "    #qprimo el primer primo mayor que mi fecha de nacimiento\n",
    "    qprimo = False\n",
    "    \n",
    "    while not pprimo:\n",
    "        if (esprimo(p,10)):\n",
    "            pprimo = True\n",
    "        else:\n",
    "            p = p+1\n",
    "    \n",
    "    while not qprimo:\n",
    "        if (esprimo(q,10)):\n",
    "            qprimo = True\n",
    "        else:\n",
    "            q = q+1\n",
    "    \n",
    "    n = p*q\n",
    "    \n",
    "    e = 2\n",
    "    phi = (p-1)*(q-1)\n",
    "    while (mcd(e,phi)[0] !=1 ):\n",
    "        e = e+1\n",
    "    \n",
    "    #inverso de x^e=y es sacar x dado e y y\n",
    "    \n",
    "    d = inverso(e, phi)\n",
    "    x = expmod(y,d,n)\n",
    "    return x,e,n\n",
    "    "
   ]
  },
  {
   "cell_type": "code",
   "execution_count": 50,
   "metadata": {
    "collapsed": false
   },
   "outputs": [
    {
     "name": "stdout",
     "output_type": "stream",
     "text": [
      "(1427435933906955L, 5, 1542194849755207)\n"
     ]
    }
   ],
   "source": [
    "p=77378395\n",
    "q=19930530\n",
    "y = 1234567890 #elemento al que calcular el inverso\n",
    "print inversorsa(p,q,y)"
   ]
  },
  {
   "cell_type": "markdown",
   "metadata": {},
   "source": [
    "Si hacemos la función RSA al valor inverso deberíamos obtener 1234567890."
   ]
  },
  {
   "cell_type": "code",
   "execution_count": 51,
   "metadata": {
    "collapsed": false
   },
   "outputs": [
    {
     "name": "stdout",
     "output_type": "stream",
     "text": [
      "1234567890\n"
     ]
    }
   ],
   "source": [
    "print expmod(1427435933906955,5,1542194849755207)"
   ]
  },
  {
   "cell_type": "markdown",
   "metadata": {},
   "source": [
    "### Ejercicio 6: Descomposición en factores"
   ]
  },
  {
   "cell_type": "markdown",
   "metadata": {},
   "source": [
    "Dado n = 50000000385000000551, encontrar sus factores primos p y q por un método distinto al del ejercicio 3, sabiendo que una inversa de x<sup>5</sup> es x<sup>10000000074000000101</sup>."
   ]
  },
  {
   "cell_type": "code",
   "execution_count": 52,
   "metadata": {
    "collapsed": true
   },
   "outputs": [],
   "source": [
    "def ej6(n,d,e):\n",
    "    \"\"\"\n",
    "    Algoritmo para encontrar los factores primos de n, dados d y e\n",
    "    \n",
    "    Entrada:\n",
    "        n: entero a factorizar\n",
    "        d: llave pública de la función Td\n",
    "        e: llave privada de la función inversa de Td, Te\n",
    "    \n",
    "    Salida:\n",
    "        False: si no es capaz de encontrar los factores\n",
    "        p y q: factores primos de n\n",
    "    \"\"\"\n",
    "    #una inversa de Zn -> Zn, x -> x^5 es x -> x^10000000074000000101\n",
    "    #Te inversa de Td mod n, si lo conocemos, podemos factorizar n\n",
    "\n",
    "    #de -1 = 2^a * b\n",
    "    #de-1 = de1\n",
    "    de1 = d*e - 1\n",
    "    \n",
    "    #Expresamos d*e-1 como (2**a)*b con b impar\n",
    "    #Calculamos a y b\n",
    "    b = de1\n",
    "    a=0\n",
    "    while (b%2==0):\n",
    "        b = b//2\n",
    "        a=a+1\n",
    "    \n",
    "    \n",
    "    while True: #repetimos con distintos x hasta encontrar factores no triviales\n",
    "        \n",
    "        #x aleatorio entre 1 y n\n",
    "        x = randint(1,n-1)\n",
    "        gcd = mcd(x,n)[0]\n",
    "        \n",
    "        if (gcd!=1): #hemos encontrado un factor->stop\n",
    "            return gcd\n",
    "        \n",
    "        if (gcd==1):\n",
    "            #y = x^b mod n\n",
    "            y = expmod(x,b,n)\n",
    "    \n",
    "        for i in range(a): #hay que repetir a veces\n",
    "            z = y\n",
    "            y = expmod(y,2,n) # y = y^2 mod n\n",
    "            \n",
    "            if (y == n-1):\n",
    "                #Fail\n",
    "                return False\n",
    "            if (y==1):\n",
    "                #exito\n",
    "                p = mcd(n,z+1)[0]\n",
    "                q = mcd(n,z-1)[0]\n",
    "                if(p!=n and p!=1):\n",
    "                    #Acabamos solo si no son factores triviales\n",
    "                    return p,q\n",
    "    \n",
    "    return False"
   ]
  },
  {
   "cell_type": "code",
   "execution_count": 55,
   "metadata": {
    "collapsed": false
   },
   "outputs": [
    {
     "name": "stdout",
     "output_type": "stream",
     "text": [
      "(19, 31)\n",
      "(5000000029L, 10000000019L)\n"
     ]
    }
   ],
   "source": [
    "n = 50000000385000000551\n",
    "d = 5\n",
    "e = 10000000074000000101\n",
    "print ej6(589,7,13) #ejemplo libro\n",
    "print ej6 (n,d,e)"
   ]
  },
  {
   "cell_type": "code",
   "execution_count": 56,
   "metadata": {
    "collapsed": false
   },
   "outputs": [
    {
     "name": "stdout",
     "output_type": "stream",
     "text": [
      "589\n",
      "50000000385000000551\n"
     ]
    }
   ],
   "source": [
    "print 19*31\n",
    "print 5000000029L*10000000019L"
   ]
  },
  {
   "cell_type": "markdown",
   "metadata": {},
   "source": [
    "Comparándolo con el método del ejercicio 3, observamos que para obtener los factores en el ejercicio 3 hemos necesitado el resultado de dos valores para la función de Rabin. Sin embargo, para obtener los factores en este ejercicio solo hemos necesitado la inversa de la función, es decir, la llave pública y privada. Normalmente no se tiene acceso tanto a la clave pública como a la privada, sin embargo, sí que es posible encontrar el resultado de dos valores para la función de Rabin."
   ]
  },
  {
   "cell_type": "markdown",
   "metadata": {},
   "source": [
    "### Ejercicio 7: Firma RSA"
   ]
  },
  {
   "cell_type": "markdown",
   "metadata": {},
   "source": [
    "En este ejercicio implementamos una firma RSA, con su generador de claves y su verificador de firma. Las claves pública y privada generada se guardan en los ficheros pub y priv, respectivamente. El mensaje está en un fichero llamado mensaje y la firma generada se guarda en un fichero llamado firma. La firma se realiza sobre un resumen del mensaje."
   ]
  },
  {
   "cell_type": "code",
   "execution_count": 57,
   "metadata": {
    "collapsed": true
   },
   "outputs": [],
   "source": [
    "from hashlib import sha224"
   ]
  },
  {
   "cell_type": "code",
   "execution_count": 58,
   "metadata": {
    "collapsed": true
   },
   "outputs": [],
   "source": [
    "def clavesRSA(p,q):\n",
    "    \"\"\"\n",
    "    Generación de claves RSA. Las guarda en su correspondiente fichero.\n",
    "    \n",
    "    Entrada: \n",
    "        p,q: primos grandes y distantes entres sí\n",
    "    \n",
    "    Salida:\n",
    "        e,n: clave publica\n",
    "        d: clave privada\n",
    "    \"\"\"\n",
    "    \n",
    "    n = p*q\n",
    "    phi = (p-1)*(q-1)\n",
    "    \n",
    "    e = 2\n",
    "    while(mcd(phi,e)[0]!=1):\n",
    "        e = e +1\n",
    "    \n",
    "    d = inverso(e,phi)\n",
    "    \n",
    "    #Abrimos con permisos de escritura los ficheros donde se guardarán las claves\n",
    "    fpub = open(\"pub\",\"w\")\n",
    "    fpriv = open(\"priv\",\"w\")\n",
    "    \n",
    "    #Escribimos en un fichero la clave publica y privada, separando e y d de n con un espacio\n",
    "    fpub.write(str(e)+\" \")\n",
    "    fpub.write(str(n))\n",
    "    \n",
    "    fpriv.write(str(d)+\" \")\n",
    "    fpriv.write(str(n))\n",
    "    \n",
    "    return e,n,d"
   ]
  },
  {
   "cell_type": "markdown",
   "metadata": {},
   "source": [
    "El algoritmo para firmar:"
   ]
  },
  {
   "cell_type": "code",
   "execution_count": 60,
   "metadata": {
    "collapsed": true
   },
   "outputs": [],
   "source": [
    "def firmaRSA(priv,m):\n",
    "    \"\"\"\n",
    "    Firma RSA -> r^d mod n=f . Guarda la firma en un fichero\n",
    "    \n",
    "    Entrada:\n",
    "        priv: nombre del fichero de la clave privada en string (d y n)\n",
    "        m: nombre del fichero del mensaje a firmar en string\n",
    "    Salida:\n",
    "        f: firma del resumen del mensaje\n",
    "    \"\"\"\n",
    "    #Abrimos el fichero de mensaje\n",
    "    myfile = open(m)\n",
    "    #Lo guardamos en una variable como string\n",
    "    m = myfile.read()    \n",
    "    #Calculamos un resumen del mensaje\n",
    "    r = sha224(m).hexdigest()\n",
    "    #Convertimos de hexadecimal a entero base 10 para poder operar con el resumen\n",
    "    r = int(\"0x\"+r,0)\n",
    "    \n",
    "    #Leemos la clave del fichero\n",
    "    fpriv = open(priv)\n",
    "    clave = fpriv.read().split(\" \")\n",
    "    d = int(clave[0])\n",
    "    n = int(clave[1])\n",
    "    \n",
    "    \n",
    "    #firma del resumen:\n",
    "    f = expmod(r,d,n)\n",
    "    \n",
    "    ffirma = open(\"firma\",\"w\")\n",
    "    ffirma.write(str(f))\n",
    "    \n",
    "    return f"
   ]
  },
  {
   "cell_type": "markdown",
   "metadata": {},
   "source": [
    "Y para verificar la firma:"
   ]
  },
  {
   "cell_type": "code",
   "execution_count": 61,
   "metadata": {
    "collapsed": true
   },
   "outputs": [],
   "source": [
    "def verificacionRSA(pub,m,f):\n",
    "    \"\"\"\n",
    "    Verificación de firma RSA-> f^e mod n=resumen mod n\n",
    "    \n",
    "    Entrada:\n",
    "        pub: nombre del fichero de la clave publica en string (e y n)\n",
    "        m: nombre del fichero del mensaje a verificar en string\n",
    "        f: nombre del fichero de firma en string\n",
    "    \n",
    "    Salida:\n",
    "        True: si la firma es correcta\n",
    "        False si no\n",
    "    \"\"\"\n",
    "    #Abrimos el fichero de mensaje\n",
    "    myfile = open(m)\n",
    "    #Lo guardamos en una variable como string\n",
    "    m = myfile.read()\n",
    "    #Calculamos un resumen del mensaje\n",
    "    r=sha224(m).hexdigest()\n",
    "    #Convertimos de hexadecimal a base 10 para poder comparar con v\n",
    "    r = int(\"0x\"+r,0)\n",
    "    \n",
    "    \n",
    "    #Leemos la clave del fichero\n",
    "    fpub = open(pub)\n",
    "    clave = fpub.read().split(\" \")\n",
    "    e = int(clave[0])\n",
    "    n = int(clave[1])\n",
    "    \n",
    "    #Leemos el fichero con la firma\n",
    "    ffirma = open(\"firma\")\n",
    "    f = int(ffirma.read())\n",
    "    \n",
    "    #verificacion\n",
    "    v = expmod(f,e,n)\n",
    "\n",
    "    \n",
    "    if(v==r%n): #si la verificacion coincide con el resumen mod n->True\n",
    "        return True\n",
    "    else:\n",
    "        return False"
   ]
  },
  {
   "cell_type": "markdown",
   "metadata": {},
   "source": [
    "Para generar las claves RSA usamos dos primos grandes y distantes entre sí. Lo siguiente genera las claves, las guarda en sus ficherso y firma el mensaje. Luego, verifica la firma."
   ]
  },
  {
   "cell_type": "code",
   "execution_count": 64,
   "metadata": {
    "collapsed": false
   },
   "outputs": [
    {
     "name": "stdout",
     "output_type": "stream",
     "text": [
      "True\n"
     ]
    }
   ],
   "source": [
    "clavesRSA(1081298104698286063813737967304568031406522676857739555339880517562925221530558524296599584286163751908713364829390795648074146197550782524900963175263757603219\n",
    ",204616454475328391399619135615615385636808455963116802820729927402260635621645177248364272093977747839601125961863785073671961509749189348777945177811)\n",
    "\n",
    "m = 'mensaje' #el nombre del fichero mensaje, para abrirlo después\n",
    "priv = \"priv\" #el nombre del fichero de clave privada\n",
    "pub = \"pub\" #el nombre del fichero de clave publica\n",
    "f = \"firma\" #el nombre del fichero de la firma\n",
    "firmaRSA(priv,m)\n",
    "print verificacionRSA(pub,m,f)"
   ]
  },
  {
   "cell_type": "markdown",
   "metadata": {},
   "source": [
    "Para comprobar que la verificación funciona, si editamos el fichero de firma y realizamos de nuevo la verificación, obtenemos un valor False."
   ]
  },
  {
   "cell_type": "code",
   "execution_count": 63,
   "metadata": {
    "collapsed": false
   },
   "outputs": [
    {
     "name": "stdout",
     "output_type": "stream",
     "text": [
      "False\n"
     ]
    }
   ],
   "source": [
    "print verificacionRSA(pub,m,f)"
   ]
  }
 ],
 "metadata": {
  "kernelspec": {
   "display_name": "Python 2",
   "language": "python",
   "name": "python2"
  },
  "language_info": {
   "codemirror_mode": {
    "name": "ipython",
    "version": 2
   },
   "file_extension": ".py",
   "mimetype": "text/x-python",
   "name": "python",
   "nbconvert_exporter": "python",
   "pygments_lexer": "ipython2",
   "version": "2.7.6"
  }
 },
 "nbformat": 4,
 "nbformat_minor": 0
}
