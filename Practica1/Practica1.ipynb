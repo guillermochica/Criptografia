{
 "cells": [
  {
   "cell_type": "markdown",
   "metadata": {
    "collapsed": false
   },
   "source": [
    "# Criptografía - Práctica 1: Aritmética modular\n",
    "Guillermo Chica Sabariego"
   ]
  },
  {
   "cell_type": "markdown",
   "metadata": {
    "collapsed": false
   },
   "source": [
    "### Ejercicio 1: Implementación del algoritmo extendido de Euclides para el cálculo del máximo común divisor"
   ]
  },
  {
   "cell_type": "code",
   "execution_count": 2,
   "metadata": {
    "collapsed": true
   },
   "outputs": [],
   "source": [
    "def mcd(a,b):\n",
    "    \"\"\"\n",
    "    Implementación del algoritmo de euclides para el cálculo del MCD y los\n",
    "    coeficientes de Bezout\n",
    "    \n",
    "    Entrada: \n",
    "        a, b: enteros \n",
    "    \n",
    "    Salida:\n",
    "        El mcd y los coeficientes u y v\n",
    "    \"\"\"\n",
    "\n",
    "\n",
    "    #Inicilizamos u y v para a y b\n",
    "    u_a=1\n",
    "    v_a=0\n",
    "    u_b=0\n",
    "    v_b=1\n",
    "\n",
    "    while(b!=0):\n",
    "        #Hallamos cociente\n",
    "        c = a / b\n",
    "        #Valores futuros de u y v\n",
    "        aux_u = u_a - c*u_b\n",
    "        aux_v = v_a - c*v_b\n",
    "        #Valor futuro d b\n",
    "        aux_b = a - c*b\n",
    "        #Hacemos los cambios\n",
    "        u_a=u_b\n",
    "        v_a=v_b\n",
    "        u_b=aux_u\n",
    "        v_b=aux_v\n",
    "        a=b\n",
    "        b=aux_b\n",
    "        \n",
    "    #a es el mcd, u el inverso si a es 1\n",
    "    return [a,u_a, v_a]"
   ]
  },
  {
   "cell_type": "markdown",
   "metadata": {
    "collapsed": false
   },
   "source": [
    "Al final del algoritmo obtenemos no solo el mcd, guardado en el valor de `a` sino también los coeficientes de Bézout:\n",
    "*d = au + bv* (*d* es el mcd). En nuestro caso, `u_a` representa el coeficiente *u* y `v_a` el coeficiente *v*."
   ]
  },
  {
   "cell_type": "markdown",
   "metadata": {
    "collapsed": true
   },
   "source": [
    "Algunas pruebas:"
   ]
  },
  {
   "cell_type": "code",
   "execution_count": 4,
   "metadata": {
    "collapsed": false
   },
   "outputs": [
    {
     "data": {
      "text/plain": [
       "[12, -1, 1]"
      ]
     },
     "execution_count": 4,
     "metadata": {},
     "output_type": "execute_result"
    }
   ],
   "source": [
    "mcd(48,60)"
   ]
  },
  {
   "cell_type": "code",
   "execution_count": 9,
   "metadata": {
    "collapsed": false
   },
   "outputs": [
    {
     "data": {
      "text/plain": [
       "12"
      ]
     },
     "execution_count": 9,
     "metadata": {},
     "output_type": "execute_result"
    }
   ],
   "source": [
    "48*-1+60*1 #d = au + bv"
   ]
  },
  {
   "cell_type": "code",
   "execution_count": 5,
   "metadata": {
    "collapsed": false
   },
   "outputs": [
    {
     "data": {
      "text/plain": [
       "[14, -1, 1]"
      ]
     },
     "execution_count": 5,
     "metadata": {},
     "output_type": "execute_result"
    }
   ],
   "source": [
    "mcd(42,56)"
   ]
  },
  {
   "cell_type": "code",
   "execution_count": 10,
   "metadata": {
    "collapsed": false
   },
   "outputs": [
    {
     "data": {
      "text/plain": [
       "14"
      ]
     },
     "execution_count": 10,
     "metadata": {},
     "output_type": "execute_result"
    }
   ],
   "source": [
    "42*-1+56*1"
   ]
  },
  {
   "cell_type": "code",
   "execution_count": 8,
   "metadata": {
    "collapsed": false
   },
   "outputs": [
    {
     "data": {
      "text/plain": [
       "[4, 44, -67]"
      ]
     },
     "execution_count": 8,
     "metadata": {},
     "output_type": "execute_result"
    }
   ],
   "source": [
    "mcd(1468,964)"
   ]
  },
  {
   "cell_type": "code",
   "execution_count": 11,
   "metadata": {
    "collapsed": false
   },
   "outputs": [
    {
     "data": {
      "text/plain": [
       "4"
      ]
     },
     "execution_count": 11,
     "metadata": {},
     "output_type": "execute_result"
    }
   ],
   "source": [
    "1468*44+964*-67"
   ]
  },
  {
   "cell_type": "markdown",
   "metadata": {},
   "source": [
    "Se puede comprobar en todos los casos que se cumple la identidad de Bézout, *d = au + bv*"
   ]
  },
  {
   "cell_type": "markdown",
   "metadata": {},
   "source": [
    "### Ejercicio 2: Inverso modular"
   ]
  },
  {
   "cell_type": "code",
   "execution_count": 3,
   "metadata": {
    "collapsed": true
   },
   "outputs": [],
   "source": [
    "def inverso(a,n):\n",
    "    \"\"\"\n",
    "    Algortimo para calcular el inverso modular de un número\n",
    "    \n",
    "    Entrada: \n",
    "        a y n enteros\n",
    "    \n",
    "    Salida: \n",
    "        El inverso modulo n de a: a^-1 mod n\n",
    "    \"\"\"\n",
    "    d_u=mcd(a,n)\n",
    "    if (d_u[0]!=1):\n",
    "        print \"No existe el inverso modulo \"+str(n)+ \" para \"+str(a)\n",
    "    else:\n",
    "        #1=u*a+v*n -> u es el inverso\n",
    "        return d_u[1]%n"
   ]
  },
  {
   "cell_type": "markdown",
   "metadata": {},
   "source": [
    "Sabemos que un número a tiene inverso modulo n si el máximo común divisor de a y n vale 1 (son primos relativos). En ese caso, la identidad de Bézout quedaría así:"
   ]
  },
  {
   "cell_type": "markdown",
   "metadata": {},
   "source": [
    "*1 = au + nv*"
   ]
  },
  {
   "cell_type": "markdown",
   "metadata": {},
   "source": [
    "Pero *nv* vale cero porque cualquier número multiplicado por *n mod n* da cero."
   ]
  },
  {
   "cell_type": "markdown",
   "metadata": {},
   "source": [
    "*1 = au*"
   ]
  },
  {
   "cell_type": "markdown",
   "metadata": {},
   "source": [
    "*1/a = u*"
   ]
  },
  {
   "cell_type": "markdown",
   "metadata": {},
   "source": [
    "Luego u es el inverso de a módulo n."
   ]
  },
  {
   "cell_type": "code",
   "execution_count": 14,
   "metadata": {
    "collapsed": false
   },
   "outputs": [
    {
     "data": {
      "text/plain": [
       "17"
      ]
     },
     "execution_count": 14,
     "metadata": {},
     "output_type": "execute_result"
    }
   ],
   "source": [
    "inverso(46381,59)"
   ]
  },
  {
   "cell_type": "code",
   "execution_count": 15,
   "metadata": {
    "collapsed": false
   },
   "outputs": [
    {
     "data": {
      "text/plain": [
       "1"
      ]
     },
     "execution_count": 15,
     "metadata": {},
     "output_type": "execute_result"
    }
   ],
   "source": [
    "(46381*17) % 59"
   ]
  },
  {
   "cell_type": "markdown",
   "metadata": {},
   "source": [
    "Efectivamente, cumple que un número multiplicado por su inverso vale 1."
   ]
  },
  {
   "cell_type": "markdown",
   "metadata": {},
   "source": [
    "### Ejercicio 3: Exponenciación modular"
   ]
  },
  {
   "cell_type": "markdown",
   "metadata": {},
   "source": [
    "Escribimos un función que calcule *a <sup>b</sup> mod n* para cualesquiera *a*, *b* y *n* enteros positivos, teniendo en cuenta la representación binaria de *b*."
   ]
  },
  {
   "cell_type": "code",
   "execution_count": 4,
   "metadata": {
    "collapsed": true
   },
   "outputs": [],
   "source": [
    "def expmod(b,e,m):\n",
    "    \"\"\"\n",
    "    Calcula la potencia modular de un número\n",
    "    \n",
    "    Entrada:\n",
    "        b: base entera\n",
    "        \n",
    "        e: exponente entero\n",
    "       \n",
    "        m: modulo entero\n",
    "    \n",
    "    Salida:\n",
    "        prod: resultado de (b^e) mod n\n",
    "    \"\"\"\n",
    "    #b = base\n",
    "    #e = exponente\n",
    "    #m = modulo\n",
    "    s=e\n",
    "    prod=1 #En prod voy almacenando el resultado de las potencias\n",
    "    a=b\n",
    "    \n",
    "    while(s>0):\n",
    "        #Caso 1: primer bit es 1\n",
    "        if(s%2==1):\n",
    "            #Cambio prod\n",
    "            prod = (prod * a) % m\n",
    "            #Cambio s\n",
    "            s = (s-1)/2\n",
    "        #Caso 2: primer bit es 0\n",
    "        elif (s%2==0):\n",
    "            #No cambio prod\n",
    "            #Cambio s\n",
    "            s = s / 2\n",
    "        #Cambio a\n",
    "        a = (a*a) % m\n",
    "        if(a==1):\n",
    "            return prod\n",
    "    \n",
    "    #Devuelvo el resultado:\n",
    "    return prod"
   ]
  },
  {
   "cell_type": "markdown",
   "metadata": {},
   "source": [
    "A pesar de que no trabajamos con bits, si no con enteros, estamos teniendo en cuenta igualmente la representación binaria de b."
   ]
  },
  {
   "cell_type": "markdown",
   "metadata": {},
   "source": [
    "Si el resto de dividir *s / 2* vale *1*, el primer bit vale 1."
   ]
  },
  {
   "cell_type": "markdown",
   "metadata": {},
   "source": [
    "Ejemplos:"
   ]
  },
  {
   "cell_type": "markdown",
   "metadata": {},
   "source": [
    "*5 % 2 = 1* y la representación binaria de *5* es `101`\n",
    "\n",
    "*61 % 2 = 1* y la representación binaria de *61* es `111101`"
   ]
  },
  {
   "cell_type": "markdown",
   "metadata": {},
   "source": [
    "Y al contrario, si el resto de dividir *s / 2* vale 0, el primer bit vale 0."
   ]
  },
  {
   "cell_type": "markdown",
   "metadata": {},
   "source": [
    "*10 % 2 = 0* y 10 en binario es `01010`"
   ]
  },
  {
   "cell_type": "code",
   "execution_count": 21,
   "metadata": {
    "collapsed": false
   },
   "outputs": [
    {
     "data": {
      "text/plain": [
       "30005440114L"
      ]
     },
     "execution_count": 21,
     "metadata": {},
     "output_type": "execute_result"
    }
   ],
   "source": [
    "expmod(562390847,1894083629,65398261921)"
   ]
  },
  {
   "cell_type": "code",
   "execution_count": 22,
   "metadata": {
    "collapsed": false
   },
   "outputs": [
    {
     "data": {
      "text/plain": [
       "1053"
      ]
     },
     "execution_count": 22,
     "metadata": {},
     "output_type": "execute_result"
    }
   ],
   "source": [
    "expmod(32448648,68347136287,13203)"
   ]
  },
  {
   "cell_type": "markdown",
   "metadata": {},
   "source": [
    "### Ejercicio 4: Test de primalidad con Miller-Rabin"
   ]
  },
  {
   "cell_type": "markdown",
   "metadata": {},
   "source": [
    "Vamos a escribir una función que dado un candidato a primo p, nos diga si es probablemente primo."
   ]
  },
  {
   "cell_type": "markdown",
   "metadata": {},
   "source": [
    "Primero implementamos el algoritmo de Miller-Rabin. El siguiente test, además del teorema pequeño de Fermat hace uso de que si n es primo, entonces en Z<sub>n</sub> un polinomio de grado 2 tiene a lo sumo dos raíces:"
   ]
  },
  {
   "cell_type": "code",
   "execution_count": 5,
   "metadata": {
    "collapsed": true
   },
   "outputs": [],
   "source": [
    "from random import randrange\n",
    "\n",
    "def millerrabin(p):\n",
    "    \"\"\"\n",
    "    Implementación del algoritmo de mille rabin para comprobar si un número\n",
    "    es primo\n",
    "    \n",
    "    Entrada:\n",
    "        p: número candidato\n",
    "        \n",
    "    Salida:\n",
    "        True: Si es probablemente primo\n",
    "        \n",
    "        False: Si no es primo\n",
    "    \"\"\"\n",
    "    \n",
    "    #Expresamos p-1 como (2**u)*s\n",
    "    #Calculamos s y u\n",
    "    s = p-1\n",
    "    u=0\n",
    "    while (s%2==0): #vemos si es primo\n",
    "        s = s//2\n",
    "        u=u+1\n",
    "    \n",
    "    \n",
    "    #Escogemos un a aleatorio entre 2 y p-2 Unif[2,p-2] p-2>2\n",
    "    #randrange(inicio, fin, salto)\n",
    "    #inicio: se incluye en el rango\n",
    "    #fin: fin del rango, no se incluye en el rango\n",
    "    a = randrange(2,p-1) \n",
    "       \n",
    "    #Si a**s=1 o a**s=-1\n",
    "    if(expmod(a,s,p)==1 or expmod(a,s,p)==p-1): #p-1 es -1 en mod p\n",
    "        return True\n",
    "    else:\n",
    "        #Desde i=1 hasta u-1\n",
    "        for i in range(1,u, 1):\n",
    "            #Si a^((2^k)*u) igual a -1 con k<u -> probablemente primo\n",
    "            exp=(2**i)*s\n",
    "            if (expmod(a,exp,p)==p-1): \n",
    "                return True\n",
    "            #Si a^((2^k)*u) igual a 1 no precedido de -1 -> no primo\n",
    "            elif (expmod(a,exp,p)==1):\n",
    "                return False\n",
    "        #Si no aparece el 1-> No primo\n",
    "        return False"
   ]
  },
  {
   "cell_type": "code",
   "execution_count": 26,
   "metadata": {
    "collapsed": false
   },
   "outputs": [
    {
     "data": {
      "text/plain": [
       "True"
      ]
     },
     "execution_count": 26,
     "metadata": {},
     "output_type": "execute_result"
    }
   ],
   "source": [
    "millerrabin(13)"
   ]
  },
  {
   "cell_type": "markdown",
   "metadata": {},
   "source": [
    "Sin embargo, miller-rabin depende de un número aleatorio *a* (una base) para determinar si un número es probablemente primo o no, así que dependiendo del valor de a podemos obtener unas veces que no es primo y otras que probablemente primo, para un mismo candidato. Si un número n es compuesto, el número de bases para las que pasa el test de Miller-Rabin es, como mucho, *(n−1)/4*. Por tanto, la probabilidad de que el test falle para un número compuesto\n",
    "es menor o igual que 1/4. Por ejemplo:"
   ]
  },
  {
   "cell_type": "code",
   "execution_count": 27,
   "metadata": {
    "collapsed": false
   },
   "outputs": [
    {
     "data": {
      "text/plain": [
       "True"
      ]
     },
     "execution_count": 27,
     "metadata": {},
     "output_type": "execute_result"
    }
   ],
   "source": [
    "millerrabin(52)"
   ]
  },
  {
   "cell_type": "code",
   "execution_count": 29,
   "metadata": {
    "collapsed": false
   },
   "outputs": [
    {
     "data": {
      "text/plain": [
       "False"
      ]
     },
     "execution_count": 29,
     "metadata": {},
     "output_type": "execute_result"
    }
   ],
   "source": [
    "millerrabin(52)"
   ]
  },
  {
   "cell_type": "markdown",
   "metadata": {},
   "source": [
    "Para subsanar este problema, hacemos una función que pase el algoritmo de miller-rabin a un número varias veces. Si repetimos el test para m bases distintas, y el número que probamos es compuesto, la probabilidad de que falle para todos es menor o igual que 1/4<sup>m</sup>. Por tanto, si tomamos un número, y le pasamos el test m veces, y en todas las ocasiones nos dice que podría ser primo, la probabilidad de que lo sea es mayor o igual que *(4m-1)/4m*:"
   ]
  },
  {
   "cell_type": "code",
   "execution_count": 6,
   "metadata": {
    "collapsed": false
   },
   "outputs": [],
   "source": [
    "def esprimo(p,n):\n",
    "    \"\"\"\n",
    "    Función que pasa el test de miller rabin varias veces, y dice si es primo\n",
    "    o no con un porcentaje\n",
    "    \n",
    "    Entrada: \n",
    "        p: número que pasa test\n",
    "        \n",
    "        n: número de veces que se hace el test\n",
    "    \n",
    "    Salida: \n",
    "        True si primo, False si no primo\n",
    "    \"\"\"\n",
    "    siprimo=0   \n",
    "    for i in range (1,n,1):\n",
    "        primo = millerrabin(p)\n",
    "        if (primo==True):\n",
    "            siprimo=siprimo+1\n",
    "        else:\n",
    "            return False\n",
    "    #Calculamos porcentajes:\n",
    "        \n",
    "    porcentajeprimo = (float(siprimo)/n)*100\n",
    "    \n",
    "    #Además, calculamos la probabilidad de que sea primo\n",
    "    prob = ((4**n-1)/float(4**n))*100\n",
    "    \n",
    "    print \"Probablemente primo. El \"+str(porcentajeprimo)+\" % de veces ha dado probablemente primo\"\n",
    "    print \"Es primo con una probabilidad mayor o igual que \"+str(prob)+\" %\"\n",
    "    return True"
   ]
  },
  {
   "cell_type": "code",
   "execution_count": 51,
   "metadata": {
    "collapsed": false
   },
   "outputs": [
    {
     "name": "stdout",
     "output_type": "stream",
     "text": [
      "Probablemente primo. El 90.0 % de veces ha dado probablemente primo\n",
      "Es primo con una probabilidad mayor o igual que 99.9999046326 %\n"
     ]
    },
    {
     "data": {
      "text/plain": [
       "True"
      ]
     },
     "execution_count": 51,
     "metadata": {},
     "output_type": "execute_result"
    }
   ],
   "source": [
    "esprimo(577,10)"
   ]
  },
  {
   "cell_type": "code",
   "execution_count": 52,
   "metadata": {
    "collapsed": false
   },
   "outputs": [
    {
     "name": "stdout",
     "output_type": "stream",
     "text": [
      "Probablemente primo. El 90.0 % de veces ha dado probablemente primo\n",
      "Es primo con una probabilidad mayor o igual que 99.9999046326 %\n"
     ]
    },
    {
     "data": {
      "text/plain": [
       "True"
      ]
     },
     "execution_count": 52,
     "metadata": {},
     "output_type": "execute_result"
    }
   ],
   "source": [
    "esprimo(123456789101119,10)"
   ]
  },
  {
   "cell_type": "code",
   "execution_count": 53,
   "metadata": {
    "collapsed": false
   },
   "outputs": [
    {
     "data": {
      "text/plain": [
       "False"
      ]
     },
     "execution_count": 53,
     "metadata": {},
     "output_type": "execute_result"
    }
   ],
   "source": [
    "esprimo(9972,10)"
   ]
  },
  {
   "cell_type": "code",
   "execution_count": 55,
   "metadata": {
    "collapsed": false
   },
   "outputs": [
    {
     "name": "stdout",
     "output_type": "stream",
     "text": [
      "Probablemente primo. El 95.0 % de veces ha dado probablemente primo\n",
      "Es primo con una probabilidad mayor o igual que 99.9999999999 %\n"
     ]
    },
    {
     "data": {
      "text/plain": [
       "True"
      ]
     },
     "execution_count": 55,
     "metadata": {},
     "output_type": "execute_result"
    }
   ],
   "source": [
    "esprimo(28564333765949,20)"
   ]
  },
  {
   "cell_type": "markdown",
   "metadata": {},
   "source": [
    "### Ejercicio 5: Algortimo Paso enano-paso gigante para el cálculo de logartimos discretos en Z<sub>p</sub>"
   ]
  },
  {
   "cell_type": "markdown",
   "metadata": {},
   "source": [
    "Suponiendo *p* un número primo, *a*, *b*, dos enteros no nulos, el algorimo paso enano paso gigante calcula *x* tal que *a<sup>x</sup> = b mod p*"
   ]
  },
  {
   "cell_type": "code",
   "execution_count": 7,
   "metadata": {
    "collapsed": true
   },
   "outputs": [],
   "source": [
    "def petitpasgrandpas(a,b,p):\n",
    "    \"\"\"\n",
    "    Implementación del algoritmo paso enano-paso gigante\n",
    "    Calcula x tal que a^x = b mod p\n",
    "    \n",
    "    Entrada: \n",
    "        a, b: enteros\n",
    "        \n",
    "        p: primo\n",
    "    \n",
    "    Salida: \n",
    "        x tal que a^x= b mod p si hay solución \n",
    "        \n",
    "        False si no hay solución\n",
    "    \n",
    "    \"\"\"\n",
    "    #Calculamos s: primer primo que elevado a 2 da > que p-1\n",
    "    s=1\n",
    "    while(s**2<p-1):\n",
    "        s=s+1\n",
    "    \n",
    "    #Sacamos la lista grande y la pequeña\n",
    "    L = [expmod(a,s*i,p) for i in range(1,s+1)]\n",
    "    l = [(b*expmod(a,i,p))%p for i in range(s)]\n",
    "    \n",
    "    #Buscamos la insterseccion entre L y l\n",
    "    n = list(set(L) & set(l))\n",
    "    \n",
    "    #Si no hay intersección, no hay solución\n",
    "    if not n:\n",
    "        print \"No hay solución\"\n",
    "        return False\n",
    "    \n",
    "    #x = i*b - j\n",
    "    #i indice de n en L +1\n",
    "    #j indice de n en l\n",
    "    i = L.index(n[0]) + 1\n",
    "    j = l.index(n[0])\n",
    "    \n",
    "    x = i*s -j\n",
    "    \n",
    "    return x #solución del logaritmo discreto"
   ]
  },
  {
   "cell_type": "code",
   "execution_count": 7,
   "metadata": {
    "collapsed": false
   },
   "outputs": [
    {
     "data": {
      "text/plain": [
       "240307345"
      ]
     },
     "execution_count": 7,
     "metadata": {},
     "output_type": "execute_result"
    }
   ],
   "source": [
    "petitpasgrandpas(364879542899,8590365927553,562390847)"
   ]
  },
  {
   "cell_type": "markdown",
   "metadata": {},
   "source": [
    "### Ejercicio 6: Raíces cuadradas modulares"
   ]
  },
  {
   "cell_type": "markdown",
   "metadata": {},
   "source": [
    " Sea *n = pq* con *p* y *q* enteros primos positivos:"
   ]
  },
  {
   "cell_type": "markdown",
   "metadata": {},
   "source": [
    "Escribimos una función que, dado un entero *a* y un primo *p* con  *(a/p) = 1* (símbolo de Jacobi), devuelve *r* tal que *r<sup>2</sup> = a mod p*.\n"
   ]
  },
  {
   "cell_type": "markdown",
   "metadata": {},
   "source": [
    "Para ello implementamos primero el símbolo de Jacobi:"
   ]
  },
  {
   "cell_type": "code",
   "execution_count": 8,
   "metadata": {
    "collapsed": true
   },
   "outputs": [],
   "source": [
    "def jacobi(a,p):\n",
    "    \"\"\"\n",
    "    Extensión del simbolo de legendre para p no primo\n",
    "\n",
    "    Entrada:\n",
    "        a: entero\n",
    "        p: impar\n",
    "        \n",
    "    Salida:\n",
    "        1 si a es residuo cuadrático mod p\n",
    "        \n",
    "        0 si p divide a a\n",
    "        \n",
    "        -1 en caso contrario\n",
    "        \n",
    "    \"\"\"   \n",
    "    if(p!=1): #Expresamos en módulo p para simplificar\n",
    "       a = a%p\n",
    "    else: #si (a/1)\n",
    "        return 1\n",
    "    \n",
    "    #Comprobamos los casos base\n",
    "    if (a==0):\n",
    "        return 0\n",
    "    if (a==1):\n",
    "        return 1\n",
    "    if (a==2):\n",
    "        if ( p%8 == 1 or p%8 == 7):\n",
    "            return 1\n",
    "        else:\n",
    "            return -1\n",
    "    if (a == p-1):\n",
    "        if (p%4 == 1):\n",
    "            return 1\n",
    "        if (p%4 == 3):\n",
    "            return -1\n",
    "    \n",
    "    #saco u y s\n",
    "    s = a\n",
    "    u=0\n",
    "    while (s%2==0): #vemos si es par\n",
    "        s = s//2\n",
    "        u=u+1\n",
    "        \n",
    "    #Reciprocidad cuadrática\n",
    "    signo1=1\n",
    "    signo2=1\n",
    "    if (u%2==0):\n",
    "        signo1 = 1\n",
    "    else:\n",
    "        if (p%8 == 1 or p%8 == 7):\n",
    "            signo1 = 1\n",
    "        else:\n",
    "            signo1 = -1\n",
    "    \n",
    "    if (p%4==1 or s%4==1):\n",
    "        signo2 = 1\n",
    "    elif (p%4==3 and s%4==3):\n",
    "        signo2 = -1\n",
    "    #Damos la vuelta        \n",
    "    a = p\n",
    "    p = s\n",
    "    \n",
    "    return signo1*signo2*jacobi(a,p)"
   ]
  },
  {
   "cell_type": "markdown",
   "metadata": {},
   "source": [
    "El algoritmo comprueba primero los casos base y si de primeras no los cumple, descompone *a* como *2<sup>u</sup>s*, con s impar, lo que se conoce como \"sacar doses\". Tras eso aplica reciprocidad cuadrática si se puede para dar la vuelta y poner abajo la *s* impar. Así, se repite recursivamente el algoritmo con los nuevos *a* y *p* resultados de dar la vuelta por reciprocidad y se comprueban de nuevo casos base, se sacan doses, etc.\n",
    "\n",
    "Hay que tener en cuenta que la reciprocidad cuadrática no funciona cuando a y p son los dos impares."
   ]
  },
  {
   "cell_type": "code",
   "execution_count": 18,
   "metadata": {
    "collapsed": false
   },
   "outputs": [
    {
     "data": {
      "text/plain": [
       "1"
      ]
     },
     "execution_count": 18,
     "metadata": {},
     "output_type": "execute_result"
    }
   ],
   "source": [
    "jacobi(15,17)"
   ]
  },
  {
   "cell_type": "code",
   "execution_count": 19,
   "metadata": {
    "collapsed": false
   },
   "outputs": [
    {
     "data": {
      "text/plain": [
       "-1"
      ]
     },
     "execution_count": 19,
     "metadata": {},
     "output_type": "execute_result"
    }
   ],
   "source": [
    "jacobi(7,11)"
   ]
  },
  {
   "cell_type": "code",
   "execution_count": 20,
   "metadata": {
    "collapsed": false
   },
   "outputs": [
    {
     "data": {
      "text/plain": [
       "-1"
      ]
     },
     "execution_count": 20,
     "metadata": {},
     "output_type": "execute_result"
    }
   ],
   "source": [
    "jacobi(2487548574,1387824574985)"
   ]
  },
  {
   "cell_type": "markdown",
   "metadata": {},
   "source": [
    "Ahora podemos implementar el algoritmo de raíz cuadrada modular:"
   ]
  },
  {
   "cell_type": "code",
   "execution_count": 9,
   "metadata": {
    "collapsed": true
   },
   "outputs": [],
   "source": [
    "def raizmodulo(a,p):\n",
    "    \"\"\"\n",
    "    Dado a y p primo con Jacobi(a,p)=1, devuelve r tal que r²=a mod p\n",
    "    \n",
    "    Entrada:\n",
    "        a: entero\n",
    "        \n",
    "        p: primo\n",
    "    \n",
    "    Salida:\n",
    "        r: raiz de a mod p si a es un residuo cuadrático modulo p\n",
    "        \n",
    "        False: si a no es un residuo cuadrático modulo p\n",
    "    \"\"\"\n",
    "    \n",
    "    #Comprobamos que a es un residuo cuadrático mod p\n",
    "    if(jacobi(a,p)!=1):\n",
    "        return False\n",
    "    \n",
    "    #Expresamos p-1 como (2**u)*s\n",
    "    #Calculamos s y u\n",
    "    s = p-1\n",
    "    u=0\n",
    "    while (s%2==0):\n",
    "        s = s//2\n",
    "        u=u+1\n",
    "    \n",
    "    if (u==1):\n",
    "        r = a**((p+1)/4)\n",
    "        return r\n",
    "    if (u>=2):\n",
    "        #Busco n tal que jacobi(n,p)=-1\n",
    "        n=1\n",
    "        while (jacobi(n,p)!=-1):\n",
    "            n = n+1\n",
    "        #b es n**s mod p\n",
    "        b = expmod(n,s,p)\n",
    "        r = expmod(a, (s+1)/2, p)\n",
    "        inversoa = inverso(a,p)\n",
    "        \n",
    "        for j in range(u-1):\n",
    "            \n",
    "            base = expmod(r,2,p) * inversoa\n",
    "            exponente = 2**(u-2-j)\n",
    "            if (expmod(base,exponente,p)) == p-1:\n",
    "                r = (r*b)%p\n",
    "            \n",
    "            b = expmod(b,2,p)\n",
    "        \n",
    "        return r"
   ]
  },
  {
   "cell_type": "markdown",
   "metadata": {},
   "source": [
    "Aunque solo devuelvo un valor, el resultado en realidad son dos, *r* y su inverso *p-r*\n",
    "\n",
    "Algunas comprobaciones:"
   ]
  },
  {
   "cell_type": "code",
   "execution_count": 25,
   "metadata": {
    "collapsed": false
   },
   "outputs": [
    {
     "data": {
      "text/plain": [
       "17"
      ]
     },
     "execution_count": 25,
     "metadata": {},
     "output_type": "execute_result"
    }
   ],
   "source": [
    "raizmodulo(2,41)"
   ]
  },
  {
   "cell_type": "code",
   "execution_count": 26,
   "metadata": {
    "collapsed": false
   },
   "outputs": [
    {
     "data": {
      "text/plain": [
       "False"
      ]
     },
     "execution_count": 26,
     "metadata": {},
     "output_type": "execute_result"
    }
   ],
   "source": [
    "raizmodulo(342545235,28564333765949)"
   ]
  },
  {
   "cell_type": "markdown",
   "metadata": {},
   "source": [
    "Ahora con *a* un entero que es residuo cuadrático módulo *p* y *q*, usaremos el teorema chino de los restos para calcular\n",
    "todas las raíces cuadradas de *a mod n* a partir de las raíces cuadradas de *a módulo p* y *q*. Para ello implementamos primero el teorema chino de los restos:"
   ]
  },
  {
   "cell_type": "code",
   "execution_count": 10,
   "metadata": {
    "collapsed": true
   },
   "outputs": [],
   "source": [
    "def teoremachino(a,b,p,q):\n",
    "    \"\"\"\n",
    "    Implementación del teorema chino de los restos.\n",
    "    \n",
    "    Dado a, b, p, q, devuelve x tal que x=amodp y x=bmodq\n",
    "    \n",
    "    Entrada:\n",
    "        a y b: enteros\n",
    "        \n",
    "        p y que: primos\n",
    "    \n",
    "    Salida:\n",
    "        x: solución de x=amodp y x=bmodp. x único modulo pq\n",
    "    \"\"\"\n",
    "    x = inverso(p,q)*(b-a)*p+a\n",
    "    \n",
    "    return x%(p*q)"
   ]
  },
  {
   "cell_type": "markdown",
   "metadata": {},
   "source": [
    "El resultado viene de expresar *x = tp + a* (1) y sustituirlo abajo:\n",
    "*tp + a = b mod q*\n",
    "\n",
    "*t = (b - a)p<sup>-1</sup>modq*, donde *modq = sq* con *s* entero\n",
    "\n",
    "*t = p<sup>-1</sup>(b-a) + sq*\n",
    "\n",
    "Sustituyo *t* en (1):\n",
    "\n",
    "*x = p<sup>-1</sup>(b-a)p + sqp + a* en *Z<sub>p</sub>*, luego *sqp = 0*"
   ]
  },
  {
   "cell_type": "markdown",
   "metadata": {},
   "source": [
    "Ahora, calculando las raíces de *a mod p y q* puedo levantar por el teorema chino de los restos y calcular las de *a mod n*:"
   ]
  },
  {
   "cell_type": "code",
   "execution_count": 36,
   "metadata": {
    "collapsed": true
   },
   "outputs": [],
   "source": [
    "def raizmodn(a,p,q):\n",
    "    \"\"\"\n",
    "    Algoritmo que calcula las raices cuadradas de a mod n a partir de las\n",
    "    raices de a mod p y q, con n=pq\n",
    "    \n",
    "    Entrada: \n",
    "        a entero residuo cuadrático modulo p y q\n",
    "        \n",
    "        p y q: primos\n",
    "    \n",
    "    Salida: \n",
    "        raices de a mod n con n=p*q\n",
    "        \n",
    "        False si a no es residuo cuadrático modulo p y q\n",
    "    \"\"\"\n",
    "    if (jacobi(a,p)!=1 and jacobi(a,q)!=1):\n",
    "        return False\n",
    "    \n",
    "    n = p*q\n",
    "    \n",
    "    r1 = raizmodulo(a,p)\n",
    "    r2 = raizmodulo(a,q)\n",
    "    \n",
    "    s1 = teoremachino(r1,r2,p,q) #caso r1 r2\n",
    "    s2 = n - s1 #caso -r1 -r2\n",
    "    s3 = teoremachino(r1,q-r2,p,q) #caso r1 -r2\n",
    "    s4 = n - s3 #caso -r1 r2\n",
    "    \n",
    "    return [s1,s2,s3,s4]"
   ]
  },
  {
   "cell_type": "markdown",
   "metadata": {},
   "source": [
    "Tras comprobar que a es residuo cuadrático calculo las raíces de a modulo *p* y *q*. Después aplico el teorema chino para r1 y r2 y obtengo una raíz. De ella saco su inversa sabiendo que es *n-s1*. Podría obtenerla igualmente haciendo el teorema chino de -r1 y -r2, pero así es más rápido. Lo mismo para el resto de casos."
   ]
  },
  {
   "cell_type": "code",
   "execution_count": 10,
   "metadata": {
    "collapsed": false
   },
   "outputs": [
    {
     "data": {
      "text/plain": [
       "[263, 24, 270, 17]"
      ]
     },
     "execution_count": 10,
     "metadata": {},
     "output_type": "execute_result"
    }
   ],
   "source": [
    "raizmodn(2,7,41)"
   ]
  },
  {
   "cell_type": "code",
   "execution_count": 31,
   "metadata": {
    "collapsed": false
   },
   "outputs": [
    {
     "data": {
      "text/plain": [
       "False"
      ]
     },
     "execution_count": 31,
     "metadata": {},
     "output_type": "execute_result"
    }
   ],
   "source": [
    "raizmodn(46381,8590365927553,28564333765949)"
   ]
  },
  {
   "cell_type": "markdown",
   "metadata": {},
   "source": [
    "### Ejercicio 7: Factorización de enteros"
   ]
  },
  {
   "cell_type": "markdown",
   "metadata": {},
   "source": [
    "Implementación del método de Fermat para factorización de enteros. Implementamos antes el método de Newton para el cálculo de raíces cuadradas, que nos servirá en el método de Fermat:\n"
   ]
  },
  {
   "cell_type": "code",
   "execution_count": 12,
   "metadata": {
    "collapsed": true
   },
   "outputs": [],
   "source": [
    "def isqrt(n):\n",
    "\n",
    "    \"\"\"\n",
    "    Implementación del método de newton para el cálculo de raíces cuadradas\n",
    "    \n",
    "    Entrada: \n",
    "        n: entero\n",
    "    \n",
    "    Salida:\n",
    "        x: raíz cuadrada de n\n",
    "    \"\"\"    \n",
    "    if(n==0):\n",
    "        return 0\n",
    "    if(n==1):\n",
    "        return 1\n",
    "\n",
    "    x = n\n",
    "\n",
    "    y = (x + 1) // 2\n",
    "    while y < x:\n",
    "        x = y\n",
    "        y = (x + n // x) // 2\n",
    "    return x"
   ]
  },
  {
   "cell_type": "markdown",
   "metadata": {},
   "source": [
    "Método de Fermat, se basa en la representación de un número natural impar como diferencia de cuadrados:"
   ]
  },
  {
   "cell_type": "code",
   "execution_count": 13,
   "metadata": {
    "collapsed": true
   },
   "outputs": [],
   "source": [
    "def factoriza(n):\n",
    "    \"\"\"\n",
    "    Implementación del método de Fermat para factorización de enteros\n",
    "    \n",
    "    Entrada:\n",
    "        n: entero positivo\n",
    "        \n",
    "    Salida:\n",
    "        a y b tal que n=a*b no triviales (ni 1 ni -1)\n",
    "        False si no consigue factorizar porque no existe un a y b equidistantes (ejemplo 14)\n",
    "    \"\"\"\n",
    "    #Comprobamos que n no es primo\n",
    "    if(esprimo(n,10)):\n",
    "        return False\n",
    "    #x raiz de n redondeando por arriba\n",
    "    x = isqrt(n) + 1\n",
    "    \n",
    "    while(x<n):\n",
    "        k = x**2 - n\n",
    "        #Si k es un cuadrado\n",
    "        if (isqrt(k)**2 == k): #n = (x^2-k) = (x²-l²) = (x-l)*(x+l)\n",
    "            l = isqrt(k)\n",
    "            a = x-l\n",
    "            b = x+l\n",
    "            return [a,b]\n",
    "        else:\n",
    "            x = x+1\n",
    "    \n",
    "    return False"
   ]
  },
  {
   "cell_type": "code",
   "execution_count": 15,
   "metadata": {
    "collapsed": false
   },
   "outputs": [
    {
     "data": {
      "text/plain": [
       "[7, 11]"
      ]
     },
     "execution_count": 15,
     "metadata": {},
     "output_type": "execute_result"
    }
   ],
   "source": [
    "factoriza(77)"
   ]
  },
  {
   "cell_type": "code",
   "execution_count": 29,
   "metadata": {
    "collapsed": false
   },
   "outputs": [
    {
     "data": {
      "text/plain": [
       "[59, 101]"
      ]
     },
     "execution_count": 29,
     "metadata": {},
     "output_type": "execute_result"
    }
   ],
   "source": [
    "factoriza(5959)"
   ]
  },
  {
   "cell_type": "code",
   "execution_count": 22,
   "metadata": {
    "collapsed": false
   },
   "outputs": [
    {
     "name": "stdout",
     "output_type": "stream",
     "text": [
      "Probablemente primo. El 90.0 % de veces ha dado probablemente primo\n",
      "Es primo con una probabilidad mayor o igual que 99.9999046326 %\n"
     ]
    },
    {
     "data": {
      "text/plain": [
       "False"
      ]
     },
     "execution_count": 22,
     "metadata": {},
     "output_type": "execute_result"
    }
   ],
   "source": [
    "factoriza(13)"
   ]
  },
  {
   "cell_type": "code",
   "execution_count": 23,
   "metadata": {
    "collapsed": false
   },
   "outputs": [
    {
     "data": {
      "text/plain": [
       "False"
      ]
     },
     "execution_count": 23,
     "metadata": {},
     "output_type": "execute_result"
    }
   ],
   "source": [
    "factoriza(14)"
   ]
  },
  {
   "cell_type": "markdown",
   "metadata": {},
   "source": [
    "En este último caso da False porque aunque 14 no es primo, no se puede descomponer en dos números que sean equidistantes, que es lo que hace el método de Fermat. En el caso de 77 sí funciona porque 7 y 11 están separados dos unidades de 9, son equidistantes, pero 14 es 7x2, que no son equidistantes.\n",
    "\n",
    "Además el algoritmo tiene la debilidad de que para números pequeños es fácil rápido sacar los factores, porque estarán más cerca entre sí."
   ]
  },
  {
   "cell_type": "markdown",
   "metadata": {},
   "source": [
    "Implementación del algortimo de factorización rho de Pollard:"
   ]
  },
  {
   "cell_type": "markdown",
   "metadata": {},
   "source": [
    "Este algoritmo hace uso de una función pseudoaleatoria:"
   ]
  },
  {
   "cell_type": "code",
   "execution_count": 14,
   "metadata": {
    "collapsed": true
   },
   "outputs": [],
   "source": [
    "def f(x,c,n):\n",
    "    \"\"\"\n",
    "    Función pseudoaleatoria usada en el cálculo de la rho de pollard\n",
    "    \n",
    "    Entrada:\n",
    "        x,c,n, enteros\n",
    "        \n",
    "    Salida:\n",
    "        Valor aleatorio\n",
    "    \"\"\"\n",
    "\n",
    "    return (x**2 + c)%n"
   ]
  },
  {
   "cell_type": "code",
   "execution_count": 15,
   "metadata": {
    "collapsed": true
   },
   "outputs": [],
   "source": [
    "from random import randint\n",
    "def pollard(n):\n",
    "    \"\"\"\n",
    "    Implementación de ro de pollard para factorización de enteros\n",
    "    \n",
    "    Entrada:\n",
    "        n: entero NO PRIMO, el numero que se quiere factorizar\n",
    "    \n",
    "    Salida:\n",
    "        d factor no trivial de n\n",
    "        \n",
    "        False si n es primo\n",
    "    \"\"\"\n",
    "    #Comprobamos que n no es primo\n",
    "    if(esprimo(n,10)):\n",
    "        return False\n",
    "    \n",
    "    while(True):\n",
    "        x = 2\n",
    "        y = 2\n",
    "        d = 1\n",
    "        c = randint(1,n-1) #c != de 0 y -2\n",
    "        \n",
    "        while (d==1):\n",
    "            x = f(x,c,n)\n",
    "            y = f(f(y,c,n),c,n)\n",
    "            d = mcd(abs(x-y),n)[0]\n",
    "        \n",
    "        if(d !=n): #Si d igual a n, seguimos intentando con otro c\n",
    "            return d\n",
    "   \n",
    "    \n",
    "    return d"
   ]
  },
  {
   "cell_type": "code",
   "execution_count": 28,
   "metadata": {
    "collapsed": false
   },
   "outputs": [
    {
     "data": {
      "text/plain": [
       "274177L"
      ]
     },
     "execution_count": 28,
     "metadata": {},
     "output_type": "execute_result"
    }
   ],
   "source": [
    "pollard(18446744073709551617)"
   ]
  },
  {
   "cell_type": "markdown",
   "metadata": {},
   "source": [
    "### Ejercicio 8: Comparación de tiempos de ejecución"
   ]
  },
  {
   "cell_type": "markdown",
   "metadata": {},
   "source": [
    "Vamos a comparar los tiempos de ejecución de nuestras funciones implementadas contra las de GAP. Con la función `time()` de python obtenemos el tiempo que tarda el sistema en realizar una función."
   ]
  },
  {
   "cell_type": "code",
   "execution_count": 16,
   "metadata": {
    "collapsed": true
   },
   "outputs": [],
   "source": [
    "import time"
   ]
  },
  {
   "cell_type": "markdown",
   "metadata": {
    "collapsed": true
   },
   "source": [
    "La función `time` de python nos devolverá el tiempo en segundos que tarda en realizarse una batería de pruebas."
   ]
  },
  {
   "cell_type": "markdown",
   "metadata": {},
   "source": [
    "#### Máximo común divisor:"
   ]
  },
  {
   "cell_type": "code",
   "execution_count": 24,
   "metadata": {
    "collapsed": false
   },
   "outputs": [
    {
     "name": "stdout",
     "output_type": "stream",
     "text": [
      "2.81551790237\n"
     ]
    }
   ],
   "source": [
    "start = time.time()\n",
    "for i in range(100000):\n",
    "    mcd(123456789101119,28564333765949)\n",
    "    mcd(8590365927553,28564333765949)\n",
    "    mcd(8590365927553,123456789101119)\n",
    "print time.time() - start"
   ]
  },
  {
   "cell_type": "markdown",
   "metadata": {},
   "source": [
    "Hemos hecho un bucle grande para poder contabilizar un tiempo relativamente grande, ya que hacer solo una prueba de la función nos arrojaría valores que tienden a cero. En GAP hemos repetido la mismo batería, usando la función GcdRepresentation(a,b), que devuelve los coeficientes de la identidad de Bézout, como nuestra función de pyhton.\n",
    "\n",
    "`gap> for i in [1..100000] do`\n",
    "\n",
    "`> GcdRepresentation(123456789101119,28564333765949);`\n",
    "\n",
    "`> GcdRepresentation(8590365927553,28564333765949);`\n",
    "\n",
    "`> GcdRepresentation(8590365927553,123456789101119);`\n",
    "\n",
    "`> od;time;`\n",
    "\n",
    "`4464`\n",
    "\n",
    "Nos ha devuelto 4.464 segundos, tardando casi dos segundos más que nuestra función"
   ]
  },
  {
   "cell_type": "markdown",
   "metadata": {},
   "source": [
    "El caso de la función inverso no lo hacemos porque usa el mismo algoritmo que el mcd."
   ]
  },
  {
   "cell_type": "markdown",
   "metadata": {},
   "source": [
    "#### Exponenciación modular:"
   ]
  },
  {
   "cell_type": "code",
   "execution_count": 30,
   "metadata": {
    "collapsed": false
   },
   "outputs": [
    {
     "name": "stdout",
     "output_type": "stream",
     "text": [
      "2.7037768364\n"
     ]
    }
   ],
   "source": [
    "start = time.time()\n",
    "for i in range(1,100000):\n",
    "    expmod(123456789101119,123456789101119,28564333765949)\n",
    "print time.time() - start"
   ]
  },
  {
   "cell_type": "markdown",
   "metadata": {},
   "source": [
    "En GAP usamos PowerModInt:\n",
    "\n",
    "`gap> for i in [1..100000] do`\n",
    "\n",
    "`> PowerModInt(123456789101119,123456789101119,28564333765949);`\n",
    "\n",
    "`> od;time;`\n",
    "\n",
    "`1168`\n",
    "\n",
    "Tarda menos GAP con 1.168 segundos frente a los 2.7 de nuestro algoritmo en python\n"
   ]
  },
  {
   "cell_type": "markdown",
   "metadata": {},
   "source": [
    "#### Test de primalidad:"
   ]
  },
  {
   "cell_type": "code",
   "execution_count": 33,
   "metadata": {
    "collapsed": false
   },
   "outputs": [
    {
     "name": "stdout",
     "output_type": "stream",
     "text": [
      "Probablemente primo. El 90.0 % de veces ha dado probablemente primo\n",
      "Es primo con una probabilidad mayor o igual que 99.9999046326 %\n",
      "0.00197219848633\n"
     ]
    }
   ],
   "source": [
    "start = time.time()\n",
    "esprimo(123456789101119,10)\n",
    "print time.time() - start"
   ]
  },
  {
   "cell_type": "markdown",
   "metadata": {},
   "source": [
    "Obtenemos 1.9 milisegundos haciendo el algoritmo millerrabin 10 veces. En GAP usamos IsPrime:\n",
    "\n",
    "gap> IsPrime(123456789101119);time;\n",
    "\n",
    "true\n",
    "\n",
    "4\n",
    "\n",
    "Y tarda más GAP, 4 milisegundos."
   ]
  },
  {
   "cell_type": "markdown",
   "metadata": {},
   "source": [
    "#### Paso enano paso gigante"
   ]
  },
  {
   "cell_type": "code",
   "execution_count": 28,
   "metadata": {
    "collapsed": false
   },
   "outputs": [
    {
     "name": "stdout",
     "output_type": "stream",
     "text": [
      "0.0777220726013\n"
     ]
    }
   ],
   "source": [
    "start = time.time()\n",
    "petitpasgrandpas(46381,768479,9476407)\n",
    "print time.time()-start"
   ]
  },
  {
   "cell_type": "markdown",
   "metadata": {},
   "source": [
    "gap> LogMod(768479,46381,9476407);time;\n",
    "\n",
    "9\n",
    "\n",
    "En GAP tardamos 9 milisegundos frente a los 77.7 milisegundos de nuestra implementación. Seguramente la nuestra tarda más porque genera las dos listas completas y luego las compara, en lugar de ir comparando mientras va generando.\n"
   ]
  },
  {
   "cell_type": "markdown",
   "metadata": {},
   "source": [
    "### Raíces modulares"
   ]
  },
  {
   "cell_type": "markdown",
   "metadata": {},
   "source": [
    "Comparamos primero las implementaciones del símbolo de Jacobi:"
   ]
  },
  {
   "cell_type": "code",
   "execution_count": 31,
   "metadata": {
    "collapsed": false
   },
   "outputs": [
    {
     "name": "stdout",
     "output_type": "stream",
     "text": [
      "0.00418591499329\n"
     ]
    }
   ],
   "source": [
    "start = time.time()\n",
    "for i in range(100):\n",
    "    jacobi(2487548574,1387824574985)\n",
    "print time.time()-start"
   ]
  },
  {
   "cell_type": "markdown",
   "metadata": {},
   "source": [
    "gap> for i in [1..100] do\n",
    "> Jacobi(2487548574,1387824574985);\n",
    "> od;time;\n",
    "3\n",
    "\n",
    "3 milisegundos en GAP frente a 4 milisegundos en nuestra implementación.\n"
   ]
  },
  {
   "cell_type": "markdown",
   "metadata": {},
   "source": [
    "Para el caso de las raices modulares:"
   ]
  },
  {
   "cell_type": "code",
   "execution_count": 44,
   "metadata": {
    "collapsed": false
   },
   "outputs": [
    {
     "name": "stdout",
     "output_type": "stream",
     "text": [
      "0.0121178627014\n"
     ]
    }
   ],
   "source": [
    "start = time.time()\n",
    "for i in range(100):\n",
    "    raizmodn(2,7,41)\n",
    "print time.time()-start"
   ]
  },
  {
   "cell_type": "markdown",
   "metadata": {},
   "source": [
    "En GAP obtenemos 11 ms:\n",
    "\n",
    "gap> for i in [1..100] do\n",
    "\n",
    "> RootsMod(2,7*41);\n",
    "\n",
    "> od;time;\n",
    "\n",
    "11\n"
   ]
  },
  {
   "cell_type": "markdown",
   "metadata": {},
   "source": [
    "#### Factorización"
   ]
  },
  {
   "cell_type": "code",
   "execution_count": 54,
   "metadata": {
    "collapsed": false
   },
   "outputs": [
    {
     "name": "stdout",
     "output_type": "stream",
     "text": [
      "1.27880001068\n"
     ]
    }
   ],
   "source": [
    "start = time.time()\n",
    "factoriza(327964272)\n",
    "print time.time() - start"
   ]
  },
  {
   "cell_type": "code",
   "execution_count": 60,
   "metadata": {
    "collapsed": false
   },
   "outputs": [
    {
     "name": "stdout",
     "output_type": "stream",
     "text": [
      "3\n",
      "0.000440120697021\n"
     ]
    }
   ],
   "source": [
    "start = time.time()\n",
    "print pollard(327964272)\n",
    "print time.time()-start"
   ]
  },
  {
   "cell_type": "markdown",
   "metadata": {},
   "source": [
    "gap> Factors(327964272);time;\n",
    "\n",
    "[ 2, 2, 2, 2, 3, 17, 401917 ]\n",
    "\n",
    "0\n"
   ]
  },
  {
   "cell_type": "markdown",
   "metadata": {},
   "source": [
    "Ambos tardan del orden de 0 segundos en hacer estas operaciones. El método de Fermat es mucho más lento."
   ]
  },
  {
   "cell_type": "code",
   "execution_count": null,
   "metadata": {
    "collapsed": true
   },
   "outputs": [],
   "source": []
  }
 ],
 "metadata": {
  "kernelspec": {
   "display_name": "Python 2",
   "language": "python",
   "name": "python2"
  },
  "language_info": {
   "codemirror_mode": {
    "name": "ipython",
    "version": 2
   },
   "file_extension": ".py",
   "mimetype": "text/x-python",
   "name": "python",
   "nbconvert_exporter": "python",
   "pygments_lexer": "ipython2",
   "version": "2.7.6"
  }
 },
 "nbformat": 4,
 "nbformat_minor": 0
}
