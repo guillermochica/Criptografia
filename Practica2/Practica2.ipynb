{
 "cells": [
  {
   "cell_type": "markdown",
   "metadata": {},
   "source": [
    "# Criptografía - Práctica 2: Secuencias pseudoaleatorias\n",
    "Guillermo Chica Sabariego"
   ]
  },
  {
   "cell_type": "markdown",
   "metadata": {},
   "source": [
    "### Ejercicio 1: Postulados de Golomb"
   ]
  },
  {
   "cell_type": "markdown",
   "metadata": {},
   "source": [
    "Hacemos una función que aplique los tres postulados de Golomb para saber si una secuencia es pseudoaleatoria. Para ello, dividimos primero los tres postulados en tres funciones diferentes."
   ]
  },
  {
   "cell_type": "markdown",
   "metadata": {},
   "source": [
    "#### Primer postulado:"
   ]
  },
  {
   "cell_type": "code",
   "execution_count": 8,
   "metadata": {
    "collapsed": true
   },
   "outputs": [],
   "source": [
    "def primerpostulado(s):\n",
    "    '''\n",
    "    Algoritmo que aplica el primer postulado de Golomb\n",
    "    \n",
    "    Entrada:\n",
    "        s: secuencia binaria a comprobar en forma de lista\n",
    "    \n",
    "    Salida:\n",
    "        True si en s hay |numero de ceros - numero de unos| <=1\n",
    "        \n",
    "        False en caso contrario\n",
    "    '''\n",
    "\n",
    "    ceros = s.count(0)\n",
    "    unos = s.count(1)\n",
    "    \n",
    "    if (abs(ceros - unos)<=1):\n",
    "        return True\n",
    "    else:\n",
    "        return False"
   ]
  },
  {
   "cell_type": "markdown",
   "metadata": {},
   "source": [
    "#### Segundo postulado"
   ]
  },
  {
   "cell_type": "code",
   "execution_count": 9,
   "metadata": {
    "collapsed": true
   },
   "outputs": [],
   "source": [
    "def segundopostulado(s):\n",
    "    '''\n",
    "    Algoritmo que aplica el segundo postulado de Golomb\n",
    "    \n",
    "    Entrada:\n",
    "        s: secuencia binaria en forma de lista\n",
    "    \n",
    "    Salida:\n",
    "        True si el número de rachas de 1 es igual al de 0, siempre que sea posible\n",
    "        \n",
    "        False: En caso contrario\n",
    "    '''\n",
    "    ##Hacemos tabla con numero de rachas en orden creciente (diccionario o lista)\n",
    "    #cada elemento i del diccionario debe ser el doble que el i+1\n",
    "    #dos ultimas posiciones: comprobar solo que es mayor o igual\n",
    "    rachas={}\n",
    "    for i in range(1,len(s)+1): #como mucho habra rachas de la longitud de s\n",
    "        rachas[i]=0\n",
    "    repeticiones=1\n",
    "    #recorro la lista incrementando un contador que pongo a 0 cuando haya un cambio\n",
    "    #si el primero y el ultimo son iguales, empiezo en la segunda posición\n",
    "    #si no, empiezo en la primera\n",
    "    if(s[0]!=s[len(s)-1]):#si el primero y el ultimo son distintos\n",
    "        for i in range(len(s)):\n",
    "            if(i!=len(s)-1): #si no estoy en la última posición\n",
    "                if(s[i]==s[i+1]):\n",
    "                    repeticiones=repeticiones+1\n",
    "                if(s[i]!=s[i+1]):#cambio\n",
    "                    rachas[repeticiones]=rachas[repeticiones]+1\n",
    "                    repeticiones=1\n",
    "\n",
    "            if(i==len(s)-1): #si estoy en la última posición: se que ultimo y primero son disintos\n",
    "                \n",
    "                rachas[repeticiones]=rachas[repeticiones]+1\n",
    "    else:\n",
    "        #si el primero y el ultimo son iguales\n",
    "        for i in range(1,len(s)): #empiezo en la segunda posición\n",
    "            if(i!=len(s)-1): #si no estoy en la última posición\n",
    "                if(s[i]==s[i+1]):\n",
    "                    repeticiones=repeticiones+1\n",
    "                if(s[i]!=s[i+1]):#cambio\n",
    "                    rachas[repeticiones]=rachas[repeticiones]+1\n",
    "                    repeticiones=1\n",
    "            if(i==len(s)-1):#estoy en la última posición-primero y ultimo iguales\n",
    "                repeticiones=repeticiones+1\n",
    "                rachas[repeticiones]=rachas[repeticiones]+1\n",
    "    #print rachas\n",
    "    #Quito las últimas rachas que valen 0\n",
    "    j=len(s)\n",
    "    while(rachas[j]==0):\n",
    "        rachas.pop(j)\n",
    "        j=j-1\n",
    "    #print rachas\n",
    "    \n",
    "    for i in range(1,len(s)):\n",
    "        if (i<len(rachas)-1):\n",
    "\n",
    "            if (rachas[i]!=rachas[i+1]*2):\n",
    "                return False\n",
    "        else: #estoy en la penúltima posición\n",
    "\n",
    "            if (rachas[i]<rachas[i+1]):\n",
    "                return False\n",
    "            else:\n",
    "                return True\n",
    "    return True"
   ]
  },
  {
   "cell_type": "markdown",
   "metadata": {},
   "source": [
    "#### Tercer postulado"
   ]
  },
  {
   "cell_type": "markdown",
   "metadata": {},
   "source": [
    "Definimos antes unas fuciones auxiliares:\n"
   ]
  },
  {
   "cell_type": "code",
   "execution_count": 10,
   "metadata": {
    "collapsed": true
   },
   "outputs": [],
   "source": [
    "def hamming(s,d):\n",
    "    '''\n",
    "    Algoritmo que calcula la distancia hamming de dos listas binarias\n",
    "    \n",
    "    Entrada:\n",
    "        s y d: listas binarias\n",
    "    \n",
    "    Salida:\n",
    "        distancia: distancia hamming\n",
    "    '''\n",
    "    #Calcula la distancia hamming de dos listas\n",
    "    #s lista original, d lista desplazada\n",
    "    distancia=0\n",
    "    for i in range(len(s)):\n",
    "        if (s[i]!=d[i]):\n",
    "            distancia = distancia + 1\n",
    "    \n",
    "    return distancia"
   ]
  },
  {
   "cell_type": "code",
   "execution_count": 11,
   "metadata": {
    "collapsed": true
   },
   "outputs": [],
   "source": [
    "def desplazar(s):\n",
    "    '''\n",
    "    Función que desplaza un lista una posición a la derecha\n",
    "    \n",
    "    Entrada:\n",
    "        s: lista a desplazar\n",
    "        \n",
    "    Salida:\n",
    "        d: lista desplazada\n",
    "    '''\n",
    "    d=[] #nueva lista desplazada\n",
    "    d.append(s[len(s)-1])\n",
    "    for i in range(len(s)-1):\n",
    "        d.append(s[i])\n",
    "    \n",
    "    return d"
   ]
  },
  {
   "cell_type": "code",
   "execution_count": 12,
   "metadata": {
    "collapsed": true
   },
   "outputs": [],
   "source": [
    "def tercerpostulado(s):\n",
    "    '''\n",
    "    Función que aplica el tercer postulado de golomb\n",
    "    \n",
    "    Entrada:\n",
    "        s: lista binaria\n",
    "    \n",
    "    Salida:\n",
    "        True si la distancia hamming se mantiene constante entre la secuencia\n",
    "        original y todos los posibles desplazamientos de s\n",
    "        \n",
    "        False en caso contrario\n",
    "    '''\n",
    "    \n",
    "    d = desplazar(s)      \n",
    "    distancia = hamming(s,d)\n",
    "    #Hay que desplazar la cadena len(s)-1 veces\n",
    "    #como ya la hemos desplazado una vez, hay que llegar hasta len(s)-2\n",
    "    #Range para una unidad antes de llegar a stop\n",
    "    #Equivale a parar cuando d==s\n",
    "    for i in range(1,len(s)-1): \n",
    "        d = desplazar(d)\n",
    "        if(distancia!=hamming(s,d)):\n",
    "            return False\n",
    "    return True"
   ]
  },
  {
   "cell_type": "markdown",
   "metadata": {},
   "source": [
    "#### Golomb"
   ]
  },
  {
   "cell_type": "markdown",
   "metadata": {},
   "source": [
    "Juntamos los tres postulados en una función"
   ]
  },
  {
   "cell_type": "code",
   "execution_count": 13,
   "metadata": {
    "collapsed": true
   },
   "outputs": [],
   "source": [
    "def golomb(s):\n",
    "    '''\n",
    "    Función que aplica el postulado de golomb a una secuencia binaria\n",
    "    \n",
    "    Entrada:\n",
    "        s: secuencia binaria en forma de lista\n",
    "    \n",
    "    Salida:\n",
    "        True si cumple los tres postulados\n",
    "        False en caso contrario\n",
    "    '''\n",
    "    \n",
    "\n",
    "    if(primerpostulado(s)==False): #si postulado da false, devuelve false\n",
    "        return False\n",
    "    if(segundopostulado(s)==False):\n",
    "        return False\n",
    "    if(tercerpostulado(s)==False):\n",
    "        return False\n",
    "    #Todos los postulados han dado True->devuelve True\n",
    "    return True"
   ]
  },
  {
   "cell_type": "markdown",
   "metadata": {},
   "source": [
    "Hacemos algunas comprobaciones. "
   ]
  },
  {
   "cell_type": "code",
   "execution_count": 9,
   "metadata": {
    "collapsed": false
   },
   "outputs": [
    {
     "name": "stdout",
     "output_type": "stream",
     "text": [
      "True\n"
     ]
    }
   ],
   "source": [
    "s=[0,0,0,1,1,1,1,0,1,0,1,1,0,0,1]\n",
    "print golomb(s)"
   ]
  },
  {
   "cell_type": "code",
   "execution_count": 10,
   "metadata": {
    "collapsed": false
   },
   "outputs": [
    {
     "name": "stdout",
     "output_type": "stream",
     "text": [
      "False\n"
     ]
    }
   ],
   "source": [
    "s1=[0,1,1,1,0,1,1,1,0,1,0]\n",
    "print golomb(s1)\n"
   ]
  },
  {
   "cell_type": "markdown",
   "metadata": {},
   "source": [
    "### Ejercicio 2: LFSR"
   ]
  },
  {
   "cell_type": "markdown",
   "metadata": {},
   "source": [
    "Implementación de registros lineales de desplazamiento con retroalimentación (LFSR). Definimos antes una función de producto escalar entre dos secuencias binarias:"
   ]
  },
  {
   "cell_type": "code",
   "execution_count": 14,
   "metadata": {
    "collapsed": true
   },
   "outputs": [],
   "source": [
    "def productoescalar(c,r):\n",
    "    \"\"\"\"\n",
    "    Producto escalar modulo 2 de dos listas de 0 y 1\n",
    "    \n",
    "    Entrada:\n",
    "        c: lista de 0 y 1 ej [1,1,1]\n",
    "        r: lista de 0 y 1 ej [1,1,1]\n",
    "    \n",
    "    Salida:\n",
    "        El producto escalar en modulo 2\n",
    "    \"\"\"\n",
    "    s = 0\n",
    "    for i in range(len(c)):\n",
    "        s = s + c[i]*r[i]\n",
    "    \n",
    "    return s%2"
   ]
  },
  {
   "cell_type": "code",
   "execution_count": 15,
   "metadata": {
    "collapsed": true
   },
   "outputs": [],
   "source": [
    "def lfsr(c,s,l):\n",
    "    \"\"\"\n",
    "    Implementación de lfsr\n",
    "    \n",
    "    Entrada:\n",
    "        c: lista coeficientes polinomio conexión en orden [cL,...,c1]\n",
    "    \n",
    "        s: lista de semilla en orden [s0,...sL-1] de la misma longitud que c\n",
    "    \n",
    "        l: longitud secuencia salida\n",
    "    \n",
    "    Salida:\n",
    "        s: resultado de aplicar el registro de desplazamiento a s\n",
    "    \"\"\"\n",
    "    \n",
    "    #Si la longitud de salida es menor o igual que el tamaño de la semilla\n",
    "    if (l <= len(s)):\n",
    "        return s[:l]\n",
    "    \n",
    "    #copiamos s en r que será el registro\n",
    "    r=[]\n",
    "    for i in s:\n",
    "        r.append(i)\n",
    "    \n",
    "    for i in range(l):\n",
    "        prod = productoescalar(c,r)\n",
    "        #añado el nuevo valor\n",
    "        s.append(prod)\n",
    "        #muevo el registro a la izquierda\n",
    "        r.pop(0) #quitamos el primer elemento\n",
    "        r.append(prod) #añadimos el nuevo valor\n",
    "    \n",
    "    return s"
   ]
  },
  {
   "cell_type": "markdown",
   "metadata": {},
   "source": [
    "A continuación se ilustra con ejemplos la dependencia del periodo de la semilla en el caso de polinomios reducibles. Por ejemplo (D⁴+D²+1) es reducible y su periodo es menor que el periodo máximo 2<sup>L</sup>-1 y depende de la semilla"
   ]
  },
  {
   "cell_type": "code",
   "execution_count": 25,
   "metadata": {
    "collapsed": false
   },
   "outputs": [
    {
     "name": "stdout",
     "output_type": "stream",
     "text": [
      "[1, 1, 1, 0, 0, 1, 1, 1, 1, 0, 0, 1, 1, 1, 1, 0, 0, 1, 1, 1, 1, 0, 0, 1]\n"
     ]
    }
   ],
   "source": [
    "print lfsr([1,0,1,0],[1,1,1,0],20) #periodo 6"
   ]
  },
  {
   "cell_type": "markdown",
   "metadata": {},
   "source": [
    "Vemos a simple vista que tiene periodo 6. Si cambiamos la semilla, cambia el periodo porque el polinomio de conexión es reducible:"
   ]
  },
  {
   "cell_type": "code",
   "execution_count": 16,
   "metadata": {
    "collapsed": false
   },
   "outputs": [
    {
     "name": "stdout",
     "output_type": "stream",
     "text": [
      "[0, 1, 1, 0, 1, 1, 0, 1, 1, 0, 1, 1, 0, 1, 1, 0, 1, 1, 0, 1, 1, 0, 1, 1]\n"
     ]
    }
   ],
   "source": [
    "print lfsr([1,0,1,0],[0,1,1,0],20) #periodo 3"
   ]
  },
  {
   "cell_type": "markdown",
   "metadata": {},
   "source": [
    "Este tiene periodo 3, a pesar de tener el mismo polinomio de conexión."
   ]
  },
  {
   "cell_type": "markdown",
   "metadata": {},
   "source": [
    "En el caso de polinomios irreducibles, el periodo no depende de la semilla,pero es divisor del periodo máximo 2**L-1. Veámoslo con el polinomio irreducible (D⁴+D³+D²+D):"
   ]
  },
  {
   "cell_type": "code",
   "execution_count": 17,
   "metadata": {
    "collapsed": false
   },
   "outputs": [
    {
     "name": "stdout",
     "output_type": "stream",
     "text": [
      "[1, 1, 1, 0, 1, 1, 1, 1, 0, 1, 1, 1, 1, 0, 1, 1, 1, 1, 0, 1, 1, 1, 1, 0]\n"
     ]
    }
   ],
   "source": [
    "print lfsr([1,1,1,1],[1,1,1,0],20) #periodo 5"
   ]
  },
  {
   "cell_type": "code",
   "execution_count": 18,
   "metadata": {
    "collapsed": false
   },
   "outputs": [
    {
     "name": "stdout",
     "output_type": "stream",
     "text": [
      "[0, 1, 1, 0, 0, 0, 1, 1, 0, 0, 0, 1, 1, 0, 0, 0, 1, 1, 0, 0, 0, 1, 1, 0]\n"
     ]
    }
   ],
   "source": [
    "print lfsr([1,1,1,1],[0,1,1,0],20)"
   ]
  },
  {
   "cell_type": "code",
   "execution_count": 26,
   "metadata": {
    "collapsed": false
   },
   "outputs": [
    {
     "name": "stdout",
     "output_type": "stream",
     "text": [
      "[0, 0, 1, 0, 1, 0, 0, 1, 0, 1, 0, 0, 1, 0, 1, 0, 0, 1, 0, 1, 0, 0, 1, 0]\n"
     ]
    }
   ],
   "source": [
    "print lfsr([1,1,1,1],[0,0,1,0],20)"
   ]
  },
  {
   "cell_type": "code",
   "execution_count": 21,
   "metadata": {
    "collapsed": false
   },
   "outputs": [
    {
     "name": "stdout",
     "output_type": "stream",
     "text": [
      "[0, 0, 1, 1, 0, 0, 0, 1, 1, 0, 0, 0, 1, 1, 0, 0, 0, 1, 1, 0, 0, 0, 1, 1]\n"
     ]
    }
   ],
   "source": [
    "print lfsr([1,1,1,1],[0,0,1,1],20)"
   ]
  },
  {
   "cell_type": "markdown",
   "metadata": {},
   "source": [
    "Siempre da periodo 5."
   ]
  },
  {
   "cell_type": "markdown",
   "metadata": {},
   "source": [
    "Si el polinomio de conexión es primitivo, el periodo es siempre 2<sup>L</sup>-1, independientemente de la semilla. Además, cumple los postulados de Golomb."
   ]
  },
  {
   "cell_type": "code",
   "execution_count": 23,
   "metadata": {
    "collapsed": false
   },
   "outputs": [
    {
     "name": "stdout",
     "output_type": "stream",
     "text": [
      "True\n"
     ]
    }
   ],
   "source": [
    "g = lfsr([1,0,0,0,0,1,0,0,0],[1,0,1,1,0,1,0,0,0],600) #El polinomio de conexión es primitivo\n",
    "print golomb(g[0:(2**9)-1]) #el periodo es 2**L - 1 (L=9)"
   ]
  },
  {
   "cell_type": "markdown",
   "metadata": {},
   "source": [
    "Y no va a depender de la semilla. La podemos cambiar:"
   ]
  },
  {
   "cell_type": "code",
   "execution_count": 24,
   "metadata": {
    "collapsed": false
   },
   "outputs": [
    {
     "name": "stdout",
     "output_type": "stream",
     "text": [
      "True\n"
     ]
    }
   ],
   "source": [
    "g = lfsr([1,0,0,0,0,1,0,0,0],[1,0,1,1,0,1,1,1,0],600) #El polinomio de conexión es primitivo\n",
    "print golomb(g[0:(2**9)-1]) #el periodo es 2**L - 1 (L=9)"
   ]
  },
  {
   "cell_type": "markdown",
   "metadata": {},
   "source": [
    "### Ejercicio 3: NLFSR"
   ]
  },
  {
   "cell_type": "markdown",
   "metadata": {},
   "source": [
    "Ahora implementamos un registro no lineal de desplazamiento asociado a una función polinómica f."
   ]
  },
  {
   "cell_type": "markdown",
   "metadata": {},
   "source": [
    "Hace falta una función de exponenciación modular:"
   ]
  },
  {
   "cell_type": "code",
   "execution_count": 27,
   "metadata": {
    "collapsed": true
   },
   "outputs": [],
   "source": [
    "def expmod(b,e,m):\n",
    "    \"\"\"\n",
    "    Calcula la potencia modular de un número\n",
    "    \n",
    "    Entrada:\n",
    "        b: base entera\n",
    "        \n",
    "        e: exponente entero\n",
    "       \n",
    "        m: modulo entero\n",
    "    \n",
    "    Salida:\n",
    "        prod: resultado de (b^e) mod n\n",
    "    \"\"\"\n",
    "    #b = base\n",
    "    #e = exponente\n",
    "    #m = modulo\n",
    "    s=e\n",
    "    prod=1 #En prod voy almacenando el resultado de las potencias\n",
    "    a=b\n",
    "    \n",
    "    while(s>0):\n",
    "        #Caso 1: primer bit es 1\n",
    "        if(s%2==1):\n",
    "            #Cambio prod\n",
    "            prod = (prod * a) % m\n",
    "            #Cambio s\n",
    "            s = (s-1)/2\n",
    "        #Caso 2: primer bit es 0\n",
    "        elif (s%2==0):\n",
    "            #No cambio prod\n",
    "            #Cambio s\n",
    "            s = s / 2\n",
    "        #Cambio a\n",
    "        a = (a*a) % m\n",
    "        if(a==1):\n",
    "            return prod\n",
    "    \n",
    "    #Devuelvo el resultado:\n",
    "    return prod"
   ]
  },
  {
   "cell_type": "code",
   "execution_count": 28,
   "metadata": {
    "collapsed": true
   },
   "outputs": [],
   "source": [
    "def nlfsr(f, s, k):\n",
    "    \"\"\"\n",
    "    Función que aplica el registro no lineal de desplazamiento asociado a f\n",
    "    \n",
    "    Entrada:\n",
    "        f: función polinómica como lista de exponentes de monomios [[],[],[]]\n",
    "        \n",
    "        s: semilla en forma de lista [1,1,1...] de la misma longitud que f\n",
    "        \n",
    "        k: longitud del registro generado\n",
    "        \n",
    "    Salida:\n",
    "        x: secuencia de longitud k obtenida al aplicar a s el registro no lineal\n",
    "        de desplazamiento con retroalimentación asociado a f\n",
    "    \"\"\"\n",
    "    \n",
    "    #Si la longitu de salida es menor o igual que el tamaño de la semilla\n",
    "    if(k<=len(s)):\n",
    "        return s[:k]\n",
    "    \n",
    "    x = list(s)\n",
    "    total=0\n",
    "    prod=1\n",
    "    \n",
    "    for i in range(k-len(s)): #repetimos k-len(s) veces, para tener una secuencia de tamaño k\n",
    "        for l in range(len(f)):#repetimos tantas veces como listas haya en f\n",
    "            for j in range(len(f[0])):#calculamos la potencia en cada indice de s y f\n",
    "                prod = prod* expmod(s[j],f[l][j],2)\n",
    "            \n",
    "            total = (total + prod)%2\n",
    "            prod = 1\n",
    "        #Ya hemos hecho la suma para todas las lista dada una semilla\n",
    "        #Cambiamos semilla y repetimos\n",
    "        x.append(total)\n",
    "        s.pop(0)\n",
    "        s.append(total)\n",
    "        total = 0\n",
    "    \n",
    "    return x"
   ]
  },
  {
   "cell_type": "markdown",
   "metadata": {},
   "source": [
    "Vamos a aplicar el NLFSR para una función f = ((x^y)∨¬z) donde ¬z es z negado, el and ^ se traduce en producto y el or xvy en x+y + xy. El polinomio resultante en forma de lista es [[1,1,1,0],[0,0,0,0],[0,0,1,0],[0,0,0,1]] y se obtiene porque f = 2xy + xyz + 1 + z + t = xyz + 1 z + t ya que las operaciones son en módulo 2. Los coeficientes de las listas representan los exponentes de las incógnitas de cada monomio de f."
   ]
  },
  {
   "cell_type": "code",
   "execution_count": 29,
   "metadata": {
    "collapsed": false
   },
   "outputs": [
    {
     "name": "stdout",
     "output_type": "stream",
     "text": [
      "[1, 0, 1, 1, 1, 1, 0, 1, 0, 0, 1, 0, 0, 1, 0, 0, 1, 0, 0, 1, 0, 0, 1, 0, 0, 1, 0, 0, 1, 0, 0, 1, 0, 0, 1, 0, 0, 1, 0, 0, 1, 0, 0, 1, 0, 0, 1, 0, 0, 1, 0, 0, 1, 0, 0, 1, 0, 0, 1, 0, 0, 1, 0, 0, 1, 0, 0, 1, 0, 0, 1, 0, 0, 1, 0, 0, 1, 0, 0, 1, 0, 0, 1, 0, 0, 1, 0, 0, 1, 0, 0, 1, 0, 0, 1, 0, 0, 1, 0, 0]\n"
     ]
    }
   ],
   "source": [
    "f = [[1,1,1,0],[0,0,0,0],[0,0,1,0],[0,0,0,1]]\n",
    "s = [1,0,1,1] #semilla\n",
    "print nlfsr(f,s,100)"
   ]
  },
  {
   "cell_type": "markdown",
   "metadata": {},
   "source": [
    "Vemos que el periodo es 3 (100) pero no empieza a aparecer hasta después de 1, 0, 1, 1, 1, 1, 0."
   ]
  },
  {
   "cell_type": "markdown",
   "metadata": {},
   "source": [
    "### Ejercicio 4: Generador de Geffe"
   ]
  },
  {
   "cell_type": "markdown",
   "metadata": {},
   "source": [
    "El generador de Geffe toma como entrada 3 LFSR x1,x2,x3 y aplica la función f(x1,x2,x3) = x1x2+x2x3+x3 donde el + es la operación xor."
   ]
  },
  {
   "cell_type": "code",
   "execution_count": 30,
   "metadata": {
    "collapsed": true
   },
   "outputs": [],
   "source": [
    "def geffe(lfsr1, lfsr2, lfsr3):\n",
    "    \"\"\"\n",
    "    Implementación del generador de geffe\n",
    "    \n",
    "    Entrada:\n",
    "        LFSR1,LFSR2,LFSR3: 3 lfsr\n",
    "        \n",
    "    Salida:\n",
    "        s: igual a lfsr1lfsr2+lfsr2lfsr3+lfsr3\n",
    "\n",
    "    \"\"\"\n",
    "    \n",
    "    s=[]\n",
    "    \n",
    "    for i in range(len(lfsr1)):\n",
    "        s.append((lfsr1[i]*lfsr2[i]+lfsr2[i]*lfsr3[i]+lfsr3[i])%2)\n",
    "    # La complejidad lineal de los lfsr es L1,L2 y L3\n",
    "    #Sus periodos p1 = (2^L1-1) p2 = (2^L2-1) p3 = (2^L3-1)\n",
    "    #Si L1,L2 y L3 son primos entre si, el periodo de s es p1*p2*p3\n",
    "    return s"
   ]
  },
  {
   "cell_type": "markdown",
   "metadata": {},
   "source": [
    "Si los periodos de lfsr1, lfsr2 y lfsr3 son primos entre sí, o lo que es lo mismo, si sus complejidades lineales L1,L2 y L3 son primos entre sí, el periodo de la secuencia obtenida co Geffe es p1*p2*p3. Si no lo fueran, el periodo sería el mínimo común múltiplo de los tres periodos."
   ]
  },
  {
   "cell_type": "code",
   "execution_count": 34,
   "metadata": {
    "collapsed": false
   },
   "outputs": [
    {
     "name": "stdout",
     "output_type": "stream",
     "text": [
      "[1, 0, 1, 1, 1, 1, 1, 0, 1, 1, 1, 1, 1, 0, 1, 0, 0, 1, 1, 0, 1, 1, 0, 1, 1, 1, 1, 0, 1, 1, 0, 1, 1, 1, 0, 1, 0, 0, 1, 1, 0, 0, 1, 0, 0, 1, 1, 1, 1, 1, 1, 1, 0, 1, 1, 0, 1, 0, 0, 1, 1, 1, 0, 1, 0, 0, 1, 1, 1, 1, 0, 1, 0, 1, 1, 1, 0, 1, 1, 0, 1, 1, 0, 1, 1, 0, 0, 1, 1, 1, 0, 0, 0, 0, 0, 1, 1, 0, 1, 1]\n"
     ]
    }
   ],
   "source": [
    "#Ejemplo donde el periodo de salida sea p1p2p3\n",
    "#Necesitamos 3 LFSR cuya L sea primos entre sí, por ejemplo:\n",
    "#L1=3, L2=5,L3=2\n",
    "\n",
    "lfsr1=lfsr([1,0,1],[1,0,0],97)\n",
    "lfsr2=lfsr([1,1,0,1,1],[1,0,0,1,1],95)\n",
    "lfsr3=lfsr([1,1],[1,0],98)\n",
    "k=geffe(lfsr1,lfsr2,lfsr3)\n",
    "\n",
    "print k"
   ]
  },
  {
   "cell_type": "markdown",
   "metadata": {},
   "source": [
    "El periodo sale demasiado grande para poder visualizarlo..."
   ]
  },
  {
   "cell_type": "markdown",
   "metadata": {},
   "source": [
    "Vamos a usar Geffe para obtener una clave k, calculada en el paso anterior, con la que hacer un cifrado de flujo."
   ]
  },
  {
   "cell_type": "code",
   "execution_count": 35,
   "metadata": {
    "collapsed": true
   },
   "outputs": [],
   "source": [
    "def cifrado(m,k):\n",
    "    \"\"\"\n",
    "    Implementación de un cifrado de flujo\n",
    "    \n",
    "    Entrada:\n",
    "        m: mensaje a cifrar\n",
    "        k: clave de la misma longitud que m\n",
    "    \n",
    "    Salida:\n",
    "        c = m+k  (suma componente a componente modulo 2)\n",
    "    \"\"\"\n",
    "    c=[]\n",
    "    for i in range(len(m)):\n",
    "        c.append((m[i]+k[i])%2)\n",
    "    \n",
    "    return c\n"
   ]
  },
  {
   "cell_type": "code",
   "execution_count": 36,
   "metadata": {
    "collapsed": true
   },
   "outputs": [],
   "source": [
    "def descifrado(c,k):\n",
    "    \"\"\"\n",
    "    Descifrado de un cifrado de flujo\n",
    "    \n",
    "    Entrada:\n",
    "        c: mensaje cifrado\n",
    "        k: clave\n",
    "    \n",
    "    Salida:\n",
    "        m = c+k (suma componente a componente modulo 2), el mensaje en claro\n",
    "    \"\"\"\n",
    "    d =[]\n",
    "    \n",
    "    for i in range(len(c)):\n",
    "        d.append((c[i]+k[i])%2)\n",
    "        \n",
    "    return d"
   ]
  },
  {
   "cell_type": "code",
   "execution_count": 39,
   "metadata": {
    "collapsed": false
   },
   "outputs": [
    {
     "name": "stdout",
     "output_type": "stream",
     "text": [
      "mensaje:  [1, 0, 1, 1, 0, 1, 1, 0, 1, 0, 0, 1, 0, 0, 1, 1, 0, 1, 0, 1]\n",
      "cifrado:  [0, 0, 0, 0, 1, 0, 0, 0, 0, 1, 1, 0, 1, 0, 0, 1, 0, 0, 1, 1]\n",
      "descifrado:  [1, 0, 1, 1, 0, 1, 1, 0, 1, 0, 0, 1, 0, 0, 1, 1, 0, 1, 0, 1]\n"
     ]
    }
   ],
   "source": [
    "m=[1,0,1,1,0,1,1,0,1,0,0,1,0,0,1,1,0,1,0,1]\n",
    "print \"mensaje: \", m\n",
    "c = cifrado(m,k)\n",
    "print \"cifrado: \", c\n",
    "d= descifrado(c,k)\n",
    "print \"descifrado: \",d"
   ]
  },
  {
   "cell_type": "markdown",
   "metadata": {},
   "source": [
    "### Ejercicio 5: Berlekamp-Massey"
   ]
  },
  {
   "cell_type": "markdown",
   "metadata": {},
   "source": [
    "Dada una sucesión de bits periodica, podemos calcular su complejidad lineal y el polinomio de conexión que la genera con el algoritmo de berlekamp-massey:"
   ]
  },
  {
   "cell_type": "code",
   "execution_count": 2,
   "metadata": {
    "collapsed": true
   },
   "outputs": [],
   "source": [
    "def berlekamp(s):\n",
    "    \"\"\"\n",
    "    Implementación del algoritmo berlekamp massey\n",
    "    \n",
    "    Entrada:\n",
    "        s: secuencia binaria de tamaño n, en forma de lista, ordenada [s0,...sn-1]\n",
    "    \n",
    "    Salida:\n",
    "        L: complejidad lineal de s\n",
    "        C: polinomio de conexión que genera s con un lfsr\n",
    "    \"\"\"\n",
    "    L=0\n",
    "    C=[1]\n",
    "    m=-1\n",
    "    B=[1]\n",
    "    N=0\n",
    "    \n",
    "    #d=1 cuando me encuentro el primer elemento de s que sea 1\n",
    "    \n",
    "    while (s[N]==0):\n",
    "        N = N + 1\n",
    "    \n",
    "    #Primer elemento distinto de 0 -> d=1\n",
    "    d=1\n",
    "    T=list(C)\n",
    "    #Cambiamos C\n",
    "    #bd = B(D)*D^N-m\n",
    "    Nm = N-m\n",
    "    bd = list(B)\n",
    "    for i in range(Nm): \n",
    "        bd.insert(0,0)\n",
    "    #C + bd\n",
    "    if (len(C)<=len(bd)):\n",
    "        suma = list(bd)\n",
    "        for i in range(len(C)):\n",
    "            suma[i] = (C[i]+bd[i])%2\n",
    "        C = list(suma)\n",
    "    else:\n",
    "        suma = list(C)\n",
    "        for i in range(len(bd)):\n",
    "            suma[i] = (C[i]+bd[i])%2\n",
    "        C = list(suma)\n",
    "    \n",
    "    if (L<=N/2):\n",
    "        L = N +1-L\n",
    "        m = N\n",
    "        B = list(T)\n",
    "    \n",
    "    N = N+1\n",
    "\n",
    "    while (N<len(s)):\n",
    "        \n",
    "        #Calculamos discrepancia\n",
    "        #aux = sumatoria de C(i)*s(N-i)\n",
    "        aux = 0\n",
    "        for i in range(1,L+1): #sumatoria de i=1 hasta L\n",
    "            aux = aux + C[i]*s[N-i]\n",
    "        d = (s[N] + aux)%2\n",
    "        \n",
    "        if (d==1):\n",
    "            T=list(C)\n",
    "            #Cambiamos C\n",
    "            #bd = B(D)*D^N-m\n",
    "            Nm = N-m\n",
    "            bd = list(B)\n",
    "            for i in range(Nm): \n",
    "                bd.insert(0,0)\n",
    "            #C + bd\n",
    "            if (len(C)<=len(bd)):\n",
    "                suma = list(bd)\n",
    "                for i in range(len(C)):\n",
    "                    suma[i] = (C[i]+bd[i])%2\n",
    "                C = list(suma)\n",
    "            else:\n",
    "                suma = list(C)\n",
    "                for i in range(len(bd)):\n",
    "                    suma[i] = (C[i]+bd[i])%2\n",
    "                C = list(suma)\n",
    "            \n",
    "            if (L<=N/2):\n",
    "                L = N +1-L\n",
    "                m = N\n",
    "                B = list(T)\n",
    "               \n",
    "            \n",
    "        N = N+1\n",
    "    \n",
    "\n",
    "    return [L,C]"
   ]
  },
  {
   "cell_type": "code",
   "execution_count": 44,
   "metadata": {
    "collapsed": false
   },
   "outputs": [
    {
     "name": "stdout",
     "output_type": "stream",
     "text": [
      "L =  4\n",
      "C =  [1, 0, 0, 1, 1]\n"
     ]
    }
   ],
   "source": [
    "s = [1,0,1,1,1,1,0,0,0,1,0,0,1,1]\n",
    "x = berlekamp(s)\n",
    "print 'L = ',x[0]\n",
    "print 'C = ',x[1]"
   ]
  },
  {
   "cell_type": "markdown",
   "metadata": {},
   "source": [
    "Comprobamos que el polinomio de conexión C que devuelve genera la secuencia s original al aplicarle un LFSR. Hay que tener en cuenta que la función berlekamp devuelve C ordenado de c0,...,cN, y en nuestra función lfsr, lo introducimos al reves, de cN hasta c1, sin contar el termino independiente 1, que es c0. Como semilla usamos la secuencia s cortada a la longitud de C."
   ]
  },
  {
   "cell_type": "code",
   "execution_count": 49,
   "metadata": {
    "collapsed": false
   },
   "outputs": [
    {
     "name": "stdout",
     "output_type": "stream",
     "text": [
      "[1, 0, 1, 1, 1, 1, 0, 0, 0, 1, 0, 0, 1, 1, 0, 1, 0, 1, 1, 1, 1, 0, 0, 0]\n",
      "[1, 0, 1, 1, 1, 1, 0, 0, 0, 1, 0, 0, 1, 1]\n"
     ]
    }
   ],
   "source": [
    "print lfsr([1,1,0,0],[1,0,1,1],20)\n",
    "print s"
   ]
  },
  {
   "cell_type": "markdown",
   "metadata": {},
   "source": [
    "Por último, hacemos ejemplos con sumas y productos de secuencias para ver qué ocurre con la complejidad lineal. Si las secuencias se han obtenido por LFSR usando polinomios de conexión primitivos, la suma de ellas tendrá una complejidad lineal que es la suma de las complejidades lineales de los polinomios de conexión generadores. Con el producto pasa igual, la complejidad lineal del producto sera el producto de las complejidades lineales."
   ]
  },
  {
   "cell_type": "markdown",
   "metadata": {},
   "source": [
    "Ejemplo. Sean dos polinomios de conexión c1 = D<sup>2</sup> + D + 1 y c2 = D<sup>3</sup> + D + 1. Sus complejidades lineales son respectivamente L1 = 2 y L2 = 3. Consideramos las secuencias que generan por LFSR a partir de las semillas 11 y 111 respectivamente:"
   ]
  },
  {
   "cell_type": "code",
   "execution_count": 52,
   "metadata": {
    "collapsed": false
   },
   "outputs": [
    {
     "name": "stdout",
     "output_type": "stream",
     "text": [
      "x1 =  [1, 1, 0, 1, 1, 0, 1, 1, 0, 1, 1, 0, 1, 1, 0, 1, 1, 0, 1, 1, 0, 1, 1, 0, 1, 1, 0, 1, 1, 0, 1, 1, 0, 1, 1, 0, 1, 1, 0, 1, 1, 0]\n",
      "x2 =  [1, 1, 1, 0, 1, 0, 0, 1, 1, 1, 0, 1, 0, 0, 1, 1, 1, 0, 1, 0, 0, 1, 1, 1, 0, 1, 0, 0, 1, 1, 1, 0, 1, 0, 0, 1, 1, 1, 0, 1, 0, 0, 1]\n"
     ]
    }
   ],
   "source": [
    "c1 = [1,1]\n",
    "c2 = [1,0,1]\n",
    "x1 = lfsr(c1,[1,1],40)\n",
    "print 'x1 = ',x1\n",
    "x2 = lfsr(c2,[1,1,1],40)\n",
    "print 'x2 = ',x2"
   ]
  },
  {
   "cell_type": "markdown",
   "metadata": {},
   "source": [
    "La primera secuencia resultante x1 tiene periodo 3 y la segunda, periodo 7. Si ahora realizamos la suma de ambas, las complejidades lineales se suman y el periodo el el mcm de 3 y 7, es decir, 21."
   ]
  },
  {
   "cell_type": "code",
   "execution_count": 58,
   "metadata": {
    "collapsed": false
   },
   "outputs": [
    {
     "name": "stdout",
     "output_type": "stream",
     "text": [
      "[0, 0, 1, 1, 0, 0, 1, 0, 1, 0, 1, 1, 1, 1, 1, 0, 0, 0, 0, 1, 0, 0, 0, 1, 1, 0, 0, 1, 0, 1, 0, 1, 1, 1, 1, 1, 0, 0, 0, 0, 1, 0]\n"
     ]
    }
   ],
   "source": [
    "#Sumamos x1 + x2\n",
    "suma = list(x1)\n",
    "for i in range(len(x1)):\n",
    "    suma[i] = (x1[i]+x2[i])%2\n",
    "print suma"
   ]
  },
  {
   "cell_type": "code",
   "execution_count": 61,
   "metadata": {
    "collapsed": false
   },
   "outputs": [
    {
     "name": "stdout",
     "output_type": "stream",
     "text": [
      "L =  5\n",
      "C =  [1, 0, 0, 0, 1, 1]\n"
     ]
    }
   ],
   "source": [
    "print 'L = ',berlekamp(suma)[0]\n",
    "print 'C = ',berlekamp(suma)[1]"
   ]
  },
  {
   "cell_type": "markdown",
   "metadata": {},
   "source": [
    "Se observa que se obtiene una complejidad lineal L=5, que es suma de L1+L2=2+3. El polinomio de conexión obtenido es D<sup>5</sup> + D<sup>4</sup> + 1. Comprobamos que este polinomio genera la secuencia suma:"
   ]
  },
  {
   "cell_type": "code",
   "execution_count": 63,
   "metadata": {
    "collapsed": false
   },
   "outputs": [
    {
     "name": "stdout",
     "output_type": "stream",
     "text": [
      "[0, 0, 1, 1, 0, 0, 1, 0, 1, 0, 1, 1, 1, 1, 1, 0, 0, 0, 0, 1, 0, 0, 0, 1, 1]\n"
     ]
    }
   ],
   "source": [
    "print lfsr([1,1,0,0,0],[0,0,1,1,0],20)"
   ]
  },
  {
   "cell_type": "markdown",
   "metadata": {},
   "source": [
    "Veamos qué ocurre con el producto:"
   ]
  },
  {
   "cell_type": "code",
   "execution_count": 56,
   "metadata": {
    "collapsed": false
   },
   "outputs": [
    {
     "name": "stdout",
     "output_type": "stream",
     "text": [
      "[1, 1, 0, 0, 1, 0, 0, 1, 0, 1, 0, 0, 0, 0, 0, 1, 1, 0, 1, 0, 0, 1, 1, 0, 0, 1, 0, 0, 1, 0, 1, 0, 0, 0, 0, 0, 1, 1, 0, 1, 0, 0]\n"
     ]
    }
   ],
   "source": [
    "prod = list(x1)\n",
    "for i in range(len(x1)):\n",
    "    prod[i] = (x1[i]*x2[i])%2\n",
    "print prod"
   ]
  },
  {
   "cell_type": "code",
   "execution_count": 62,
   "metadata": {
    "collapsed": false
   },
   "outputs": [
    {
     "name": "stdout",
     "output_type": "stream",
     "text": [
      "L =  6\n",
      "C =  [1, 1, 1, 0, 1, 0, 1]\n"
     ]
    }
   ],
   "source": [
    "print 'L = ',berlekamp(prod)[0]\n",
    "print 'C = ',berlekamp(prod)[1]"
   ]
  },
  {
   "cell_type": "markdown",
   "metadata": {},
   "source": [
    "Ahora la complejidad lineal del producto es L=6 que es igual a L1·L2 = 2·3. Además se obtiene un polinomio de conexión D<sup>6</sup> + D<sup>4</sup> + D<sup>2</sup> + D + 1. Comprobamos que el polinomio de conexión genera la secuencia producto:"
   ]
  },
  {
   "cell_type": "code",
   "execution_count": 64,
   "metadata": {
    "collapsed": false
   },
   "outputs": [
    {
     "name": "stdout",
     "output_type": "stream",
     "text": [
      "[1, 1, 0, 0, 1, 0, 0, 1, 0, 1, 0, 0, 0, 0, 0, 1, 1, 0, 1, 0, 0, 1, 1, 0, 0, 1]\n"
     ]
    }
   ],
   "source": [
    "print lfsr([1,0,1,0,1,1],[1,1,0,0,1,0],20)"
   ]
  }
 ],
 "metadata": {
  "kernelspec": {
   "display_name": "Python 2",
   "language": "python",
   "name": "python2"
  },
  "language_info": {
   "codemirror_mode": {
    "name": "ipython",
    "version": 2
   },
   "file_extension": ".py",
   "mimetype": "text/x-python",
   "name": "python",
   "nbconvert_exporter": "python",
   "pygments_lexer": "ipython2",
   "version": "2.7.6"
  }
 },
 "nbformat": 4,
 "nbformat_minor": 0
}
